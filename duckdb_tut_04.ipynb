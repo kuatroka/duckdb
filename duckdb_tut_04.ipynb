{
 "cells": [
  {
   "cell_type": "code",
   "execution_count": 1,
   "id": "adf21c91-1213-4475-9690-afa982be0e37",
   "metadata": {
    "execution": {
     "iopub.execute_input": "2022-11-30T23:51:24.489110Z",
     "iopub.status.busy": "2022-11-30T23:51:24.488099Z",
     "iopub.status.idle": "2022-11-30T23:51:25.291893Z",
     "shell.execute_reply": "2022-11-30T23:51:25.290897Z",
     "shell.execute_reply.started": "2022-11-30T23:51:24.489110Z"
    }
   },
   "outputs": [],
   "source": [
    "import duckdb\n",
    "import pandas as pd"
   ]
  },
  {
   "cell_type": "code",
   "execution_count": null,
   "id": "bf97eba1-457f-481c-ac0f-94c05fc21c5a",
   "metadata": {
    "tags": []
   },
   "outputs": [],
   "source": [
    "%cd E:\\\\app_data\\\\sec_apps_data\\\\speed_test\\\\filings_13f_full\\\\tr_04_filings_parquet_cik\n",
    "# 1000275-2022-08-15.parquet\n",
    "df = pd.read_parquet(\"1000275-2022-08-15.parquet\")\n",
    " "
   ]
  },
  {
   "cell_type": "code",
   "execution_count": 31,
   "id": "24840c70-4e27-4421-bfa2-4e4cafeaac7a",
   "metadata": {
    "execution": {
     "iopub.execute_input": "2022-12-01T00:07:04.847595Z",
     "iopub.status.busy": "2022-12-01T00:07:04.846573Z",
     "iopub.status.idle": "2022-12-01T00:07:04.885576Z",
     "shell.execute_reply": "2022-12-01T00:07:04.885576Z",
     "shell.execute_reply.started": "2022-12-01T00:07:04.847595Z"
    },
    "tags": []
   },
   "outputs": [
    {
     "data": {
      "text/html": [
       "<div>\n",
       "<style scoped>\n",
       "    .dataframe tbody tr th:only-of-type {\n",
       "        vertical-align: middle;\n",
       "    }\n",
       "\n",
       "    .dataframe tbody tr th {\n",
       "        vertical-align: top;\n",
       "    }\n",
       "\n",
       "    .dataframe thead th {\n",
       "        text-align: right;\n",
       "    }\n",
       "</style>\n",
       "<table border=\"1\" class=\"dataframe\">\n",
       "  <thead>\n",
       "    <tr style=\"text-align: right;\">\n",
       "      <th></th>\n",
       "      <th>cik</th>\n",
       "      <th>cusip</th>\n",
       "      <th>quarter</th>\n",
       "      <th>tr_id</th>\n",
       "      <th>tr_type</th>\n",
       "      <th>tr_value</th>\n",
       "      <th>tr_shares</th>\n",
       "      <th>sec_13f_price</th>\n",
       "      <th>value</th>\n",
       "      <th>shares</th>\n",
       "      <th>...</th>\n",
       "      <th>next_shares_diff</th>\n",
       "      <th>next_value_diff</th>\n",
       "      <th>open</th>\n",
       "      <th>max</th>\n",
       "      <th>min</th>\n",
       "      <th>close</th>\n",
       "      <th>pnl_actual_pct</th>\n",
       "      <th>pnl_max_paper_pct</th>\n",
       "      <th>pnl_min_paper_pct</th>\n",
       "      <th>pnl_quarter_pct</th>\n",
       "    </tr>\n",
       "  </thead>\n",
       "  <tbody>\n",
       "    <tr>\n",
       "      <th>122963</th>\n",
       "      <td>1000275</td>\n",
       "      <td>688239201</td>\n",
       "      <td>2006Q1</td>\n",
       "      <td>TR-1000275-688239201-2006Q1</td>\n",
       "      <td>OPEN</td>\n",
       "      <td>5000.0</td>\n",
       "      <td>80.0</td>\n",
       "      <td>62.50</td>\n",
       "      <td>5000.0</td>\n",
       "      <td>80.0</td>\n",
       "      <td>...</td>\n",
       "      <td>0.0</td>\n",
       "      <td>1000.0</td>\n",
       "      <td>62.50</td>\n",
       "      <td>62.50</td>\n",
       "      <td>50.00</td>\n",
       "      <td>50.00</td>\n",
       "      <td>-20.00</td>\n",
       "      <td>0.00</td>\n",
       "      <td>-20.00</td>\n",
       "      <td>0.00</td>\n",
       "    </tr>\n",
       "    <tr>\n",
       "      <th>317880</th>\n",
       "      <td>1000275</td>\n",
       "      <td>05644R101</td>\n",
       "      <td>2011Q3</td>\n",
       "      <td>TR-1000275-05644R101-2011Q2</td>\n",
       "      <td>ADD</td>\n",
       "      <td>1000.0</td>\n",
       "      <td>861.0</td>\n",
       "      <td>2.24</td>\n",
       "      <td>4000.0</td>\n",
       "      <td>1786.0</td>\n",
       "      <td>...</td>\n",
       "      <td>NaN</td>\n",
       "      <td>NaN</td>\n",
       "      <td>3.24</td>\n",
       "      <td>3.24</td>\n",
       "      <td>2.24</td>\n",
       "      <td>2.24</td>\n",
       "      <td>-30.86</td>\n",
       "      <td>0.00</td>\n",
       "      <td>-30.86</td>\n",
       "      <td>-30.86</td>\n",
       "    </tr>\n",
       "    <tr>\n",
       "      <th>106532</th>\n",
       "      <td>1000275</td>\n",
       "      <td>73936Q835</td>\n",
       "      <td>2011Q3</td>\n",
       "      <td>TR-1000275-73936Q835-2010Q4</td>\n",
       "      <td>REDUCE</td>\n",
       "      <td>-1204000.0</td>\n",
       "      <td>-41404.0</td>\n",
       "      <td>26.35</td>\n",
       "      <td>315000.0</td>\n",
       "      <td>11953.0</td>\n",
       "      <td>...</td>\n",
       "      <td>11223.0</td>\n",
       "      <td>296000.0</td>\n",
       "      <td>27.35</td>\n",
       "      <td>30.67</td>\n",
       "      <td>24.50</td>\n",
       "      <td>27.84</td>\n",
       "      <td>1.79</td>\n",
       "      <td>12.14</td>\n",
       "      <td>-10.42</td>\n",
       "      <td>-3.66</td>\n",
       "    </tr>\n",
       "  </tbody>\n",
       "</table>\n",
       "<p>3 rows × 43 columns</p>\n",
       "</div>"
      ],
      "text/plain": [
       "            cik      cusip quarter                        tr_id tr_type  \\\n",
       "122963  1000275  688239201  2006Q1  TR-1000275-688239201-2006Q1    OPEN   \n",
       "317880  1000275  05644R101  2011Q3  TR-1000275-05644R101-2011Q2     ADD   \n",
       "106532  1000275  73936Q835  2011Q3  TR-1000275-73936Q835-2010Q4  REDUCE   \n",
       "\n",
       "         tr_value  tr_shares  sec_13f_price     value   shares  ...  \\\n",
       "122963     5000.0       80.0          62.50    5000.0     80.0  ...   \n",
       "317880     1000.0      861.0           2.24    4000.0   1786.0  ...   \n",
       "106532 -1204000.0   -41404.0          26.35  315000.0  11953.0  ...   \n",
       "\n",
       "        next_shares_diff  next_value_diff   open    max    min  close  \\\n",
       "122963               0.0           1000.0  62.50  62.50  50.00  50.00   \n",
       "317880               NaN              NaN   3.24   3.24   2.24   2.24   \n",
       "106532           11223.0         296000.0  27.35  30.67  24.50  27.84   \n",
       "\n",
       "       pnl_actual_pct pnl_max_paper_pct pnl_min_paper_pct pnl_quarter_pct  \n",
       "122963         -20.00              0.00            -20.00            0.00  \n",
       "317880         -30.86              0.00            -30.86          -30.86  \n",
       "106532           1.79             12.14            -10.42           -3.66  \n",
       "\n",
       "[3 rows x 43 columns]"
      ]
     },
     "execution_count": 31,
     "metadata": {},
     "output_type": "execute_result"
    }
   ],
   "source": [
    "df.sample(3)"
   ]
  },
  {
   "cell_type": "code",
   "execution_count": 27,
   "id": "6709646b-309c-4080-9a72-363af1e5381f",
   "metadata": {
    "execution": {
     "iopub.execute_input": "2022-12-01T00:04:15.919990Z",
     "iopub.status.busy": "2022-12-01T00:04:15.919990Z",
     "iopub.status.idle": "2022-12-01T00:04:16.559119Z",
     "shell.execute_reply": "2022-12-01T00:04:16.558152Z",
     "shell.execute_reply.started": "2022-12-01T00:04:15.919990Z"
    },
    "tags": []
   },
   "outputs": [
    {
     "name": "stdout",
     "output_type": "stream",
     "text": [
      "<class 'pandas.core.frame.DataFrame'>\n",
      "RangeIndex: 345490 entries, 0 to 345489\n",
      "Data columns (total 43 columns):\n",
      " #   Column                Non-Null Count   Dtype         \n",
      "---  ------                --------------   -----         \n",
      " 0   cik                   345490 non-null  Int64         \n",
      " 1   cusip                 345490 non-null  object        \n",
      " 2   quarter               345490 non-null  object        \n",
      " 3   tr_id                 345490 non-null  category      \n",
      " 4   tr_type               345490 non-null  category      \n",
      " 5   tr_value              312287 non-null  float64       \n",
      " 6   tr_shares             312287 non-null  float64       \n",
      " 7   sec_13f_price         345490 non-null  float64       \n",
      " 8   value                 345490 non-null  float64       \n",
      " 9   shares                345490 non-null  float64       \n",
      " 10  prev_shares_diff      327198 non-null  Float64       \n",
      " 11  prev_value_diff       327198 non-null  float64       \n",
      " 12  latest_filed_quarter  345490 non-null  object        \n",
      " 13  prev_quarter_diff     327198 non-null  float64       \n",
      " 14  next_quarter_diff     327198 non-null  float64       \n",
      " 15  accession_number      345490 non-null  object        \n",
      " 16  rdate                 345490 non-null  datetime64[ns]\n",
      " 17  submission_type       345490 non-null  object        \n",
      " 18  fdate                 345490 non-null  datetime64[ns]\n",
      " 19  cik_name              345490 non-null  object        \n",
      " 20  name_of_issuer        345490 non-null  object        \n",
      " 21  title_of_class        345490 non-null  object        \n",
      " 22  put_call              17916 non-null   object        \n",
      " 23  xml_flag              345490 non-null  object        \n",
      " 24  shares_bonds          345435 non-null  object        \n",
      " 25  cik_ticker            345490 non-null  object        \n",
      " 26  cik_ticker_name       345490 non-null  object        \n",
      " 27  cik_ticker_exchange   345490 non-null  object        \n",
      " 28  updated_at            345490 non-null  object        \n",
      " 29  latest_fdate          345490 non-null  object        \n",
      " 30  cusip_ticker          335642 non-null  object        \n",
      " 31  cusip_ticker_name     335642 non-null  object        \n",
      " 32  quarter_as_int        345490 non-null  int64         \n",
      " 33  next_shares_diff      327198 non-null  float64       \n",
      " 34  next_value_diff       327198 non-null  float64       \n",
      " 35  open                  345490 non-null  float64       \n",
      " 36  max                   345490 non-null  float64       \n",
      " 37  min                   345490 non-null  float64       \n",
      " 38  close                 345490 non-null  float64       \n",
      " 39  pnl_actual_pct        345490 non-null  float64       \n",
      " 40  pnl_max_paper_pct     345490 non-null  float64       \n",
      " 41  pnl_min_paper_pct     345490 non-null  float64       \n",
      " 42  pnl_quarter_pct       345490 non-null  float64       \n",
      "dtypes: Float64(1), Int64(1), category(2), datetime64[ns](2), float64(18), int64(1), object(18)\n",
      "memory usage: 110.9+ MB\n"
     ]
    }
   ],
   "source": [
    "df.info()"
   ]
  },
  {
   "cell_type": "code",
   "execution_count": 43,
   "id": "78a37082-b366-4825-9f27-8cdece79d924",
   "metadata": {
    "execution": {
     "iopub.execute_input": "2022-12-01T00:11:20.426273Z",
     "iopub.status.busy": "2022-12-01T00:11:20.426273Z",
     "iopub.status.idle": "2022-12-01T00:11:20.637299Z",
     "shell.execute_reply": "2022-12-01T00:11:20.636303Z",
     "shell.execute_reply.started": "2022-12-01T00:11:20.426273Z"
    },
    "tags": []
   },
   "outputs": [
    {
     "data": {
      "text/html": [
       "<div>\n",
       "<style scoped>\n",
       "    .dataframe tbody tr th:only-of-type {\n",
       "        vertical-align: middle;\n",
       "    }\n",
       "\n",
       "    .dataframe tbody tr th {\n",
       "        vertical-align: top;\n",
       "    }\n",
       "\n",
       "    .dataframe thead th {\n",
       "        text-align: right;\n",
       "    }\n",
       "</style>\n",
       "<table border=\"1\" class=\"dataframe\">\n",
       "  <thead>\n",
       "    <tr style=\"text-align: right;\">\n",
       "      <th></th>\n",
       "      <th>cik</th>\n",
       "      <th>cusip</th>\n",
       "      <th>quarter</th>\n",
       "      <th>tr_id</th>\n",
       "      <th>tr_type</th>\n",
       "      <th>tr_value</th>\n",
       "      <th>tr_shares</th>\n",
       "      <th>sec_13f_price</th>\n",
       "      <th>value</th>\n",
       "      <th>shares</th>\n",
       "      <th>...</th>\n",
       "      <th>next_shares_diff</th>\n",
       "      <th>next_value_diff</th>\n",
       "      <th>open</th>\n",
       "      <th>max</th>\n",
       "      <th>min</th>\n",
       "      <th>close</th>\n",
       "      <th>pnl_actual_pct</th>\n",
       "      <th>pnl_max_paper_pct</th>\n",
       "      <th>pnl_min_paper_pct</th>\n",
       "      <th>pnl_quarter_pct</th>\n",
       "    </tr>\n",
       "  </thead>\n",
       "  <tbody>\n",
       "    <tr>\n",
       "      <th>0</th>\n",
       "      <td>1000275</td>\n",
       "      <td>73936Q835</td>\n",
       "      <td>2011Q3</td>\n",
       "      <td>TR-1000275-73936Q835-2010Q4</td>\n",
       "      <td>REDUCE</td>\n",
       "      <td>-1204000.0</td>\n",
       "      <td>-41404.0</td>\n",
       "      <td>26.35</td>\n",
       "      <td>315000.0</td>\n",
       "      <td>11953.0</td>\n",
       "      <td>...</td>\n",
       "      <td>11223.0</td>\n",
       "      <td>296000.0</td>\n",
       "      <td>27.35</td>\n",
       "      <td>30.67</td>\n",
       "      <td>24.5</td>\n",
       "      <td>27.84</td>\n",
       "      <td>1.79</td>\n",
       "      <td>12.14</td>\n",
       "      <td>-10.42</td>\n",
       "      <td>-3.66</td>\n",
       "    </tr>\n",
       "  </tbody>\n",
       "</table>\n",
       "<p>1 rows × 43 columns</p>\n",
       "</div>"
      ],
      "text/plain": [
       "       cik      cusip quarter                        tr_id tr_type   tr_value  \\\n",
       "0  1000275  73936Q835  2011Q3  TR-1000275-73936Q835-2010Q4  REDUCE -1204000.0   \n",
       "\n",
       "   tr_shares  sec_13f_price     value   shares  ...  next_shares_diff  \\\n",
       "0   -41404.0          26.35  315000.0  11953.0  ...           11223.0   \n",
       "\n",
       "   next_value_diff   open    max   min  close pnl_actual_pct  \\\n",
       "0         296000.0  27.35  30.67  24.5  27.84           1.79   \n",
       "\n",
       "  pnl_max_paper_pct pnl_min_paper_pct pnl_quarter_pct  \n",
       "0             12.14            -10.42           -3.66  \n",
       "\n",
       "[1 rows x 43 columns]"
      ]
     },
     "execution_count": 43,
     "metadata": {},
     "output_type": "execute_result"
    }
   ],
   "source": [
    "duckdb.filter(df, \"next_shares_diff = 11223.0\").df()"
   ]
  },
  {
   "cell_type": "code",
   "execution_count": 65,
   "id": "2a4e2f17-d17f-4e86-b61b-58b90919399c",
   "metadata": {
    "execution": {
     "iopub.execute_input": "2022-12-01T00:40:24.722588Z",
     "iopub.status.busy": "2022-12-01T00:40:24.722588Z",
     "iopub.status.idle": "2022-12-01T00:40:24.868725Z",
     "shell.execute_reply": "2022-12-01T00:40:24.868725Z",
     "shell.execute_reply.started": "2022-12-01T00:40:24.722588Z"
    },
    "tags": []
   },
   "outputs": [],
   "source": [
    "query_str = \"\"\"\n",
    "    SELECT cusip, avg(tr_value) as avg_value, quarter\n",
    "    FROM df\n",
    "    WHERE year(rdate) NOT IN (2020, 2021)\n",
    "    GROUP BY cusip, quarter\n",
    "    HAVING abs(avg(tr_value)) < 10000\n",
    "    LIMIT 10\n",
    "\"\"\"\n",
    "    # WHERE year(rdate) IN (2020, 2021)\n",
    "    # GROUP BY cusip\n",
    "    # HAVING avg(tr_value) > 1000000\n",
    "# duckdb.query(query_str)\n",
    "duckdb.query(query_str).df()\n",
    "out = duckdb.query(query_str).to_df()"
   ]
  },
  {
   "cell_type": "code",
   "execution_count": 66,
   "id": "80597c2b-0083-4ce7-ab05-ed60191b5294",
   "metadata": {
    "execution": {
     "iopub.execute_input": "2022-12-01T00:40:35.164088Z",
     "iopub.status.busy": "2022-12-01T00:40:35.164088Z",
     "iopub.status.idle": "2022-12-01T00:40:35.180100Z",
     "shell.execute_reply": "2022-12-01T00:40:35.179100Z",
     "shell.execute_reply.started": "2022-12-01T00:40:35.164088Z"
    },
    "tags": []
   },
   "outputs": [
    {
     "data": {
      "text/html": [
       "<div>\n",
       "<style scoped>\n",
       "    .dataframe tbody tr th:only-of-type {\n",
       "        vertical-align: middle;\n",
       "    }\n",
       "\n",
       "    .dataframe tbody tr th {\n",
       "        vertical-align: top;\n",
       "    }\n",
       "\n",
       "    .dataframe thead th {\n",
       "        text-align: right;\n",
       "    }\n",
       "</style>\n",
       "<table border=\"1\" class=\"dataframe\">\n",
       "  <thead>\n",
       "    <tr style=\"text-align: right;\">\n",
       "      <th></th>\n",
       "      <th>cusip</th>\n",
       "      <th>avg_value</th>\n",
       "      <th>quarter</th>\n",
       "    </tr>\n",
       "  </thead>\n",
       "  <tbody>\n",
       "    <tr>\n",
       "      <th>8</th>\n",
       "      <td>09253X102</td>\n",
       "      <td>2000.0</td>\n",
       "      <td>2015Q2</td>\n",
       "    </tr>\n",
       "  </tbody>\n",
       "</table>\n",
       "</div>"
      ],
      "text/plain": [
       "       cusip  avg_value quarter\n",
       "8  09253X102     2000.0  2015Q2"
      ]
     },
     "execution_count": 66,
     "metadata": {},
     "output_type": "execute_result"
    }
   ],
   "source": [
    "out.sample()"
   ]
  }
 ],
 "metadata": {
  "kernelspec": {
   "display_name": "Python 3 (ipykernel)",
   "language": "python",
   "name": "python3"
  },
  "language_info": {
   "codemirror_mode": {
    "name": "ipython",
    "version": 3
   },
   "file_extension": ".py",
   "mimetype": "text/x-python",
   "name": "python",
   "nbconvert_exporter": "python",
   "pygments_lexer": "ipython3",
   "version": "3.9.7"
  }
 },
 "nbformat": 4,
 "nbformat_minor": 5
}
