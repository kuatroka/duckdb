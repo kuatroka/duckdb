{
  "cells": [
    {
      "cell_type": "markdown",
      "metadata": {
        "id": "x4UIW8GUQaqt"
      },
      "source": [
        "# **SETUP**"
      ]
    },
    {
      "cell_type": "markdown",
      "metadata": {
        "id": "XXvRwAVPGtiX"
      },
      "source": [
        "*Install* DuckDB"
      ]
    },
    {
      "cell_type": "code",
      "execution_count": null,
      "metadata": {
        "id": "IFC0Acb9Gu8W"
      },
      "outputs": [],
      "source": [
        "!pip install duckdb"
      ]
    },
    {
      "cell_type": "markdown",
      "metadata": {
        "id": "25WiZPNQhU3f"
      },
      "source": [
        "Import libraries"
      ]
    },
    {
      "cell_type": "code",
      "execution_count": null,
      "metadata": {
        "id": "lzZg8HsyknbW"
      },
      "outputs": [],
      "source": [
        "import pandas as pd\n",
        "import duckdb\n",
        "import time"
      ]
    },
    {
      "cell_type": "markdown",
      "metadata": {
        "id": "XDQF0N7HJIQ_"
      },
      "source": [
        "Download:\n",
        "*   [NYC Taxi Dataset](https://www1.nyc.gov/site/tlc/about/tlc-trip-record-data.page)\n",
        "*   Weather Dataset\n",
        "\n"
      ]
    },
    {
      "cell_type": "code",
      "execution_count": null,
      "metadata": {
        "id": "9RXn51F_JMpn"
      },
      "outputs": [],
      "source": [
        "!wget \"https://s3.amazonaws.com/nyc-tlc/trip+data/yellow_tripdata_2016-01.csv\"\n",
        "!wget \"https://pdet.github.io/assets/data/weather.csv\""
      ]
    },
    {
      "cell_type": "code",
      "execution_count": null,
      "metadata": {},
      "outputs": [],
      "source": [
        "import requests\n",
        "\n",
        "requests.get(\"https://pdet.github.io/assets/data/weather.csv\")\n",
        "requests.get(\"https://s3.amazonaws.com/nyc-tlc/trip+data/yellow_tripdata_2016-01.csv\")"
      ]
    },
    {
      "cell_type": "markdown",
      "metadata": {
        "id": "ryMJZSckLmqG"
      },
      "source": [
        "# **Load the data** "
      ]
    },
    {
      "cell_type": "markdown",
      "metadata": {
        "id": "u_Fx_Qetmhzm"
      },
      "source": [
        "To Load the data in Pandas, we can use the read_csv function."
      ]
    },
    {
      "cell_type": "code",
      "execution_count": null,
      "metadata": {
        "id": "ZAhvgXjQmn2d"
      },
      "outputs": [],
      "source": [
        "pandas_taxi = pd.read_csv(\"https://s3.amazonaws.com/nyc-tlc/trip+data/yellow_tripdata_2016-01.csv\")\n",
        "pandas_weather = pd.read_csv(\"https://pdet.github.io/assets/data/weather.csv\")"
      ]
    },
    {
      "cell_type": "markdown",
      "metadata": {
        "id": "fCJZW9oOmqnm"
      },
      "source": [
        "There are two main ways of loading the data in DuckDB\n",
        "1.   Through the [SQL API](https://duckdb.org/docs/sql/statements/create_table)\n"
      ]
    },
    {
      "cell_type": "code",
      "execution_count": 99,
      "metadata": {
        "id": "JMalyz3qm-MW"
      },
      "outputs": [],
      "source": [
        "#Get a DuckDB Connection, pass it a string to store data on Disk.\n",
        "# duck_conn = duckdb.connect(\"path.db\")\n",
        "duck_conn.close()\n",
        "# Use the create table syntax to read data from a CSV File\n",
        "# load_cab_trip_sql = 'SELECT * FROM pandas_taxi'\n",
        "# load_weather_sql = 'SELECT * FROM pandas_weather'\n",
        "# duck_conn.execute(load_cab_trip_sql)\n",
        "# duck_conn.execute(load_weather_sql)"
      ]
    },
    {
      "cell_type": "code",
      "execution_count": null,
      "metadata": {},
      "outputs": [],
      "source": [
        "duck_conn.fetchone()"
      ]
    },
    {
      "cell_type": "markdown",
      "metadata": {
        "id": "wLTa4KeKngIl"
      },
      "source": [
        "2.   Through the [Relational API](https://github.com/cwida/duckdb/blob/master/examples/python/duckdb-python.py)\n"
      ]
    },
    {
      "cell_type": "code",
      "execution_count": null,
      "metadata": {
        "id": "Sg86ph-TqLCv"
      },
      "outputs": [],
      "source": [
        "# Use the from_csv_auto function to point to the table\n",
        "duck_rel_taxi = duck_conn.from_df(pandas_taxi)\n",
        "# print(duck_rel_taxi)\n",
        "\n",
        "# duck_rel_weather = duck_conn.from_df(pandas_weather)\n",
        "# print(duck_rel_weather)\n",
        "\n",
        "#Note that by using the Relational API the data is not yet stored in a table, \n",
        "# so future access to it will read the CSV files again.\n",
        "\n",
        "#Use the table function to get a Python Relational object that references a table.\n",
        "# This will allow us to use the relational API on a table.\n",
        "# duck_taxi = duck_conn.table(duck_rel_taxi)\n",
        "# duck_weather = duck_conn.table('weather')\n",
        "\n",
        "duck_conn.execute(\"CREATE TABLE cab_trip AS SELECT * FROM pandas_taxi\") # Create a table from the pandas_taxi dataframe "
      ]
    },
    {
      "cell_type": "code",
      "execution_count": null,
      "metadata": {},
      "outputs": [],
      "source": [
        "duck_conn.execute(\"SHOW TABLES\").df()"
      ]
    },
    {
      "cell_type": "code",
      "execution_count": null,
      "metadata": {},
      "outputs": [],
      "source": [
        "duck_conn.execute(\"DESCRIBE cab_trip\").df()\n",
        "# duck_conn.execute(\"DESCRIBE cab_trip\").fetchall()\n",
        "# duck_conn.execute(\"DESCRIBE cab_trip\").fetchnumpy()"
      ]
    },
    {
      "cell_type": "code",
      "execution_count": null,
      "metadata": {},
      "outputs": [],
      "source": [
        "duck_conn.execute(\"SELECT * FROM cab_trip LIMIT 10\").df()"
      ]
    },
    {
      "cell_type": "code",
      "execution_count": null,
      "metadata": {},
      "outputs": [],
      "source": [
        "duck_conn.execute(\"SUMMARIZE cab_trip\").df()"
      ]
    },
    {
      "cell_type": "markdown",
      "metadata": {
        "id": "bBWk1B0gmMMV"
      },
      "source": [
        "# **Queries** "
      ]
    },
    {
      "cell_type": "markdown",
      "metadata": {
        "id": "W4wqtjzlT30T"
      },
      "source": [
        "# **Q1 (Simple Aggregation)** \n",
        "**Average of** (passenger_count, trip_distance, fare_amount e total_amount.)\n"
      ]
    },
    {
      "cell_type": "code",
      "execution_count": null,
      "metadata": {
        "id": "sy7O9XS0T9kJ"
      },
      "outputs": [],
      "source": [
        "# Fill SQL with query\n",
        "sql = \"\"\" \"\"\"\n",
        "\n",
        "start_time = time.monotonic()\n",
        "result = pandas_taxi.agg(\n",
        "    passenger_count=('passenger_count', 'mean'),\n",
        "    trip_distance=('trip_distance', 'mean'),\n",
        "    fare_amount=('fare_amount', 'mean'),\n",
        "    total_amount=('total_amount', 'mean')\n",
        "  )\n",
        "print (\"Pandas: \" + str(time.monotonic() - start_time))\n",
        "\n",
        "start_time = time.monotonic()\n",
        "res = duck_conn.execute(sql).fetchall()\n",
        "print (\"DuckDB: \" + str(time.monotonic() - start_time))\n",
        "\n",
        "duck_conn.execute('PRAGMA threads=2')\n",
        "\n",
        "start_time = time.monotonic()\n",
        "res = duck_conn.execute(sql).fetchall()\n",
        "print (\"DuckDB (2T): \" + str(time.monotonic() - start_time))\n",
        "\n",
        "duck_conn.execute('PRAGMA threads=1')\n",
        "\n",
        "# TIP: Use aggregate function of duck_taxi\n",
        "start_time = time.monotonic()\n",
        "res = ...\n",
        "print (\"DuckDB (RAPI): \" + str(time.monotonic() - start_time))"
      ]
    },
    {
      "cell_type": "markdown",
      "metadata": {
        "id": "AnE6A2olT954"
      },
      "source": [
        "# **Q2 (Aggregation + Group By)**\n",
        "**Average of** (passenger_count, trip_distance, fare_amount e total_amount.)\n",
        "\n",
        "**Grouped by** passenger_count"
      ]
    },
    {
      "cell_type": "code",
      "execution_count": null,
      "metadata": {
        "id": "oypnNM8qZel2"
      },
      "outputs": [],
      "source": [
        "# Fill SQL with query\n",
        "sql = \"\"\" \"\"\"\n",
        "\n",
        "start_time = time.monotonic()\n",
        "result = pandas_taxi.groupby(['passenger_count']).agg(\n",
        "    trip_distance=('trip_distance', 'mean'),\n",
        "    fare_amount=('fare_amount', 'mean'),\n",
        "    total_amount=('total_amount', 'mean')\n",
        "  )\n",
        "print (\"Pandas: \" + str(time.monotonic() - start_time))\n",
        "\n",
        "start_time = time.monotonic()\n",
        "res = duck_conn.execute(sql).fetchall()\n",
        "print (\"DuckDB: \" + str(time.monotonic() - start_time))\n",
        "\n",
        "duck_conn.execute('PRAGMA threads=2')\n",
        "\n",
        "start_time = time.monotonic()\n",
        "res = duck_conn.execute(sql).fetchall()\n",
        "print (\"DuckDB (2T): \" + str(time.monotonic() - start_time))\n",
        "\n",
        "duck_conn.execute('PRAGMA threads=1')\n",
        "\n",
        "start_time = time.monotonic()\n",
        "# TIP: Use aggregate function of duck_taxi\n",
        "res = ...\n",
        "print (\"DuckDB (RAPI): \" + str(time.monotonic() - start_time))"
      ]
    },
    {
      "cell_type": "markdown",
      "metadata": {
        "id": "NmXEJYbqqjzz"
      },
      "source": [
        "# **Q3 (Aggregation + Group By + Filter)**\n",
        "**Average of** (passenger_count, trip_distance, fare_amount e total_amount.)\n",
        "\n",
        "**Grouped by** passenger_count\n",
        "\n",
        "**Filter** total_amount < 10"
      ]
    },
    {
      "cell_type": "code",
      "execution_count": null,
      "metadata": {
        "id": "z2D-wbPbqkA4"
      },
      "outputs": [],
      "source": [
        "# Fill SQL with query\n",
        "sql = \"\"\"  \"\"\"\n",
        "\n",
        "start_time = time.monotonic()\n",
        "filtered_df = pandas_taxi[pandas_taxi['total_amount'] < 10]\n",
        "result = filtered_df.groupby(['passenger_count']).agg(\n",
        "    trip_distance=('trip_distance', 'mean'),\n",
        "    fare_amount=('fare_amount', 'mean'),\n",
        "    total_amount=('total_amount', 'mean')\n",
        "  )\n",
        "print (\"Pandas: \" + str(time.monotonic() - start_time))\n",
        "\n",
        "start_time = time.monotonic()\n",
        "res = duck_conn.execute(sql).fetchall()\n",
        "print (\"DuckDB: \" + str(time.monotonic() - start_time))\n",
        "\n",
        "duck_conn.execute('PRAGMA threads=2')\n",
        "\n",
        "start_time = time.monotonic()\n",
        "res = duck_conn.execute(sql).fetchall()\n",
        "print (\"DuckDB (2T): \" + str(time.monotonic() - start_time))\n",
        "\n",
        "duck_conn.execute('PRAGMA threads=1')\n",
        "\n",
        "start_time = time.monotonic()\n",
        "# TIP: Use filter function of duck_taxi\n",
        "duck_filter = ...\n",
        "# TIP: Use aggregate function of duck_filter\n",
        "res = ...\n",
        "print (\"DuckDB (RAPI): \" + str(time.monotonic() - start_time))"
      ]
    },
    {
      "cell_type": "markdown",
      "metadata": {
        "id": "qGtq0ThftaS_"
      },
      "source": [
        "# **Q4 (Aggregation + Group By + Filter + Join)**\n",
        "**Average of** (passenger_count, trip_distance, fare_amount e total_amount.)\n",
        "\n",
        "**Join** cab_trip.tpep_pickup_datetime::DATE = weather.date\n",
        "\n",
        "**Grouped by** passenger_count\n",
        "\n",
        "**Filter** total_amount < 10 and maximum_temperature < 50"
      ]
    },
    {
      "cell_type": "code",
      "execution_count": null,
      "metadata": {
        "id": "x67nQKLztbdH"
      },
      "outputs": [],
      "source": [
        "# Fill SQL with query (Note the cast in the join key cab_trip.tpep_pickup_datetime::DATE = weather.date )\n",
        "\n",
        "sql = \"\"\"  \"\"\"\n",
        "\n",
        "start_time = time.monotonic()\n",
        "\n",
        "merged = pandas_taxi.merge(\n",
        "  pandas_weather,\n",
        "  left_on='tpep_pickup_datetime',\n",
        "  right_on='date')\n",
        "\n",
        "filtered_df = merged[merged['total_amount'] < 10]\n",
        "\n",
        "filtered_df = filtered_df[filtered_df['maximum_temperature'] < 50 ]\n",
        "\n",
        "result = filtered_df.groupby(['passenger_count']).agg(\n",
        "    trip_distance=('trip_distance', 'mean'),\n",
        "    fare_amount=('fare_amount', 'mean'),\n",
        "    total_amount=('total_amount', 'mean')\n",
        "  )\n",
        "\n",
        "print (\"Pandas: \" + str(time.monotonic() - start_time))\n",
        "\n",
        "start_time = time.monotonic()\n",
        "res = duck_conn.execute(sql).fetchall()\n",
        "print (\"DuckDB: \" + str(time.monotonic() - start_time))\n",
        "\n",
        "duck_conn.execute('PRAGMA threads=2')\n",
        "\n",
        "start_time = time.monotonic()\n",
        "res = duck_conn.execute(sql).fetchall()\n",
        "print (\"DuckDB (2T): \" + str(time.monotonic() - start_time))\n",
        "\n",
        "duck_conn.execute('PRAGMA threads=1')\n",
        "\n",
        "start_time = time.monotonic()\n",
        "# TIP: Use filter function of duck_taxi\n",
        "duck_taxi_filter = ...\n",
        "# TIP: Use filter function of duck_weather\n",
        "duck_weather_filter = ...\n",
        "# TIP: Use join function of duck_taxi_filter with duck_weather_filter\n",
        "duck_join = ...\n",
        "# TIP: Use aggregate function\n",
        "res = ...\n",
        "\n",
        "print (\"DuckDB (RAPI): \" + str(time.monotonic() - start_time))"
      ]
    },
    {
      "cell_type": "markdown",
      "metadata": {
        "id": "LZSpVEDu6VnO"
      },
      "source": [
        "# **Transactions** "
      ]
    },
    {
      "cell_type": "markdown",
      "metadata": {
        "id": "HSG2lKb9JQGc"
      },
      "source": [
        "Let's say that no car in NYC can fit more than 5 passengers.\n",
        "Consider all trips with more than 5 passengers as dirty, and remove them.\n"
      ]
    },
    {
      "cell_type": "code",
      "execution_count": null,
      "metadata": {
        "id": "2C6WHjy_vUDE"
      },
      "outputs": [],
      "source": [
        "print(duck_conn.execute('select count(*) from cab_trip where passenger_count > 6').fetchall())"
      ]
    },
    {
      "cell_type": "code",
      "execution_count": 100,
      "metadata": {},
      "outputs": [],
      "source": [
        "# import sqlite3\n",
        "\n",
        "# sqlite_conn = sqlite3.connect('taxi.db')\n",
        "sqlite_conn.close()\n",
        "# pandas_taxi.to_sql('cap_trip_sqlite', sqlite_conn, if_exists='replace')\n"
      ]
    },
    {
      "cell_type": "code",
      "execution_count": null,
      "metadata": {},
      "outputs": [],
      "source": [
        "print(sqlite_conn.execute('select count(*) from cap_trip_sqlite where passenger_count > 6').fetchall())"
      ]
    },
    {
      "cell_type": "code",
      "execution_count": null,
      "metadata": {
        "id": "X20uKwviJPog"
      },
      "outputs": [],
      "source": [
        "res = duck_conn.execute('select count(*) from cab_trip where passenger_count > 6').fetchall()\n",
        "\n",
        "start_time = time.monotonic()\n",
        "result = pandas_taxi[pandas_taxi['total_amount'] < 6]\n",
        "result.to_csv('result.csv.tmp', sep=',')\n",
        "print (\"Pandas: \" + str(time.monotonic() - start_time))\n",
        "\n",
        "start_time = time.monotonic()\n",
        "# TIP: Use delete from SQL\n",
        "res = ...\n",
        "print (\"DuckDB: \" + str(time.monotonic() - start_time))"
      ]
    },
    {
      "cell_type": "code",
      "execution_count": null,
      "metadata": {},
      "outputs": [],
      "source": [
        "res = sqlite_conn.execute('select count(*) from cap_trip_sqlite where passenger_count > 6').fetchall()\n",
        "\n",
        "start_time = time.monotonic()\n",
        "result = pandas_taxi[pandas_taxi['total_amount'] < 6]\n",
        "result.to_csv('result.csv.tmp', sep=',')\n",
        "print (\"Pandas: \" + str(time.monotonic() - start_time))\n",
        "\n",
        "start_time = time.monotonic()\n",
        "# TIP: Use delete from SQL\n",
        "res = ...\n",
        "print (\"SQLiteDB: \" + str(time.monotonic() - start_time))"
      ]
    }
  ],
  "metadata": {
    "colab": {
      "collapsed_sections": [],
      "name": "NYC Cab Driver - English - Class",
      "provenance": []
    },
    "kernelspec": {
      "display_name": "Python 3.9.7 ('venv': venv)",
      "language": "python",
      "name": "python3"
    },
    "language_info": {
      "codemirror_mode": {
        "name": "ipython",
        "version": 3
      },
      "file_extension": ".py",
      "mimetype": "text/x-python",
      "name": "python",
      "nbconvert_exporter": "python",
      "pygments_lexer": "ipython3",
      "version": "3.9.7"
    },
    "vscode": {
      "interpreter": {
        "hash": "b5143f6ff7bbb63cabd89bb4a9cefd32bc32894118b9021102650afc5c8bb261"
      }
    }
  },
  "nbformat": 4,
  "nbformat_minor": 0
}
