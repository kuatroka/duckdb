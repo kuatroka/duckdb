{
 "cells": [
  {
   "cell_type": "code",
   "execution_count": null,
   "id": "4f306f5d-d12d-4503-8e72-42e8857e4ecc",
   "metadata": {
    "tags": []
   },
   "outputs": [],
   "source": [
    "import duckdb\n",
    "conn = duckdb.connect(r\"E:\\app_data\\sec_apps_data\\test.duckdb\", read_only=False)\n",
    "\n",
    "# conn = duckdb.connect(r\"E:\\app_data\\sec_apps_data\\13f_filings_duckdb.duckdb\", read_only=False)\n"
   ]
  },
  {
   "cell_type": "code",
   "execution_count": null,
   "id": "3af44d92-e70d-4f55-be1a-6809ee352d18",
   "metadata": {
    "tags": []
   },
   "outputs": [],
   "source": [
    "conn.close()"
   ]
  },
  {
   "cell_type": "code",
   "execution_count": null,
   "id": "8694ac01-1def-43d4-ae02-2cdfe74cf0a5",
   "metadata": {
    "tags": []
   },
   "outputs": [],
   "source": [
    "results = conn.execute(\"SELECT 41, 23, 23\").fetchall()"
   ]
  },
  {
   "cell_type": "code",
   "execution_count": null,
   "id": "4f75441d-691e-4c5b-8b86-ce6d35d580d5",
   "metadata": {
    "tags": []
   },
   "outputs": [],
   "source": [
    "results = conn.execute(\"SELECT 41, 23, 23\").df()"
   ]
  },
  {
   "cell_type": "code",
   "execution_count": null,
   "id": "53704b40-7db8-4d8b-a7df-78578f2ca1e6",
   "metadata": {
    "tags": []
   },
   "outputs": [],
   "source": [
    "# Create a table\n",
    "conn.execute(\"CREATE TABLE IF NOT EXISTS test_table (i INTEGER, J STRING)\")"
   ]
  },
  {
   "cell_type": "code",
   "execution_count": null,
   "id": "fe7b1f37-c23b-4e5e-bf85-c6b5ada37121",
   "metadata": {},
   "outputs": [],
   "source": [
    "# Adding two entries into our newly created table using typical SQL script\n",
    "\n",
    "conn.execute(\"INSERT INTO test_table VALUES (1, 'one'), (9, 'nine')\")"
   ]
  },
  {
   "cell_type": "code",
   "execution_count": null,
   "id": "90db4c67-20b7-4d81-acca-1820ab9c239a",
   "metadata": {
    "tags": []
   },
   "outputs": [],
   "source": [
    "# view the column i from out table and present it as pandas df\n",
    "conn.execute(\"\"\"SELECT i, j\n",
    "             FROM test_table\n",
    "                          \n",
    "             \"\"\").fetchdf()"
   ]
  },
  {
   "cell_type": "code",
   "execution_count": null,
   "id": "91d57914-bf2a-43f8-bdc4-defc8c2db8ea",
   "metadata": {
    "tags": []
   },
   "outputs": [],
   "source": [
    "# view as numpy array\n",
    "conn.execute(\"\"\"SELECT i, j\n",
    "             FROM test_table\n",
    "             \"\"\").fetchnumpy()"
   ]
  },
  {
   "cell_type": "code",
   "execution_count": null,
   "id": "bac31cf2-332d-43fc-b7be-494bd00ad70d",
   "metadata": {
    "tags": []
   },
   "outputs": [],
   "source": [
    "# view as standard SQL output\n",
    "conn.execute(\"\"\"SELECT i, j\n",
    "             FROM test_table\n",
    "             \"\"\").fetchall()"
   ]
  },
  {
   "cell_type": "code",
   "execution_count": null,
   "id": "01b7f0e8-d652-4090-bc82-a01ea2409dd0",
   "metadata": {
    "tags": []
   },
   "outputs": [],
   "source": [
    "# view only one entry from the table\n",
    "conn.execute(\"\"\"SELECT *\n",
    "             FROM test_table\n",
    "             \"\"\").fetchone()"
   ]
  },
  {
   "cell_type": "code",
   "execution_count": null,
   "id": "1b760338-0b5f-4509-ac90-766b2861e122",
   "metadata": {
    "tags": []
   },
   "outputs": [],
   "source": [
    "# we can use executemany() to insert multiple values. !! Need to be careful though\n",
    "# as official documentation says not to use it and use other (pandas or numpy type of\n",
    "# syntax) to have better speed\n",
    "# insert one row with placeholders\n",
    "conn.execute(\"\"\"\n",
    "    INSERT INTO test_table VALUES (?,?) \"\"\", [2, 'two'])\n",
    "\n",
    "# insert multiple rows with the help of placeholders\n",
    "conn.executemany(\"\"\"\n",
    "    INSERT INTO test_table VALUES (?,?)\"\"\", [[3, 'three'],[4, 'four']])\n",
    "\n",
    "conn.execute(\"SELECT * from test_table \").df()\n"
   ]
  },
  {
   "cell_type": "code",
   "execution_count": null,
   "id": "3ad8d471-3482-4878-858c-0c29e4683eb3",
   "metadata": {
    "tags": []
   },
   "outputs": [],
   "source": [
    "# Create a table\n",
    "# conn.execute(\"DROP TABLE test_table\")\n",
    "# conn.execute(\"CREATE TABLE IF NOT EXISTS test_table (accessionNumber VARCHAR PRIMARY KEY, cikManager VARCHAR, managerName VARCHAR,submissionType VARCHAR,filedAsOfDate DATE,periodOfReport DATE,report_Quarter VARCHAR,report_Year VARCHAR,xml_flag VARCHAR,created_at DATETIME)\")\n",
    "conn.execute(\"CREATE TABLE IF NOT EXISTS test_table AS SELECT * FROM \\\n",
    "read_csv_auto('E:\\\\app_data\\sec_apps_data\\data.csv', delim=',', header=True)\")"
   ]
  },
  {
   "cell_type": "code",
   "execution_count": null,
   "id": "4062ca08-2b40-436a-bd64-606190fbdb6d",
   "metadata": {
    "tags": []
   },
   "outputs": [],
   "source": [
    "conn.execute(\"SELECT * from test_table \").df().shape,\n",
    "# conn.execute(\"SELECT * from test_table \").df().tail(6)"
   ]
  },
  {
   "cell_type": "markdown",
   "id": "e07f76b4-7fdb-404b-9d29-4bcc40f11314",
   "metadata": {},
   "source": [
    "## Let's create a pandas df from scratch and play with SQL"
   ]
  },
  {
   "cell_type": "code",
   "execution_count": null,
   "id": "e5e56f6d-708f-4139-9f78-121c746ca440",
   "metadata": {},
   "outputs": [],
   "source": [
    "import pandas as pd\n",
    "test_df = pd.DataFrame.from_dict({\"i\":[1,2,3,4], \"j\": [\"one\", \"two\", \"three\", \"four\"]})\n",
    "# make this df available in the duckdb as a view\n",
    "conn.register(\"test_df\", test_df)\n",
    "conn.execute(\"\"\"\n",
    "SELECT j FROM test_df WHERE i > 1\n",
    "\"\"\").fetchdf()"
   ]
  },
  {
   "cell_type": "markdown",
   "id": "c766950f-c081-4b8e-a623-b325e4ceb2ed",
   "metadata": {},
   "source": []
  },
  {
   "cell_type": "code",
   "execution_count": null,
   "id": "eba55b51-1b3a-449a-a98a-788e2d800da1",
   "metadata": {
    "tags": []
   },
   "outputs": [],
   "source": [
    "import pandas as pd\n",
    "df = pd.read_csv(r\"E:\\app_data\\sec_apps_data\\bank_data.csv\")\n",
    "# make this df available in the duckdb as a view\n"
   ]
  },
  {
   "cell_type": "code",
   "execution_count": null,
   "id": "2b92cf3f-c396-467d-8b7a-3c62b0f2d474",
   "metadata": {
    "tags": []
   },
   "outputs": [],
   "source": [
    "df.head()"
   ]
  },
  {
   "cell_type": "code",
   "execution_count": null,
   "id": "ff868dc5-2bda-4c57-b0a7-2ccf42727d59",
   "metadata": {
    "tags": []
   },
   "outputs": [],
   "source": [
    "conn.register(\"bank_df\", df)\n",
    "conn.execute(\"\"\"\n",
    "SELECT * FROM bank_df WHERE age > 27\n",
    "\"\"\").fetchdf()"
   ]
  },
  {
   "cell_type": "code",
   "execution_count": null,
   "id": "f54fe440-61e1-4bcc-be82-4d2d4f6ac795",
   "metadata": {
    "tags": []
   },
   "outputs": [],
   "source": [
    "df.describe(include='all')"
   ]
  },
  {
   "cell_type": "code",
   "execution_count": null,
   "id": "297fdb2a-74cc-44b2-aab6-6749a4972f40",
   "metadata": {
    "tags": []
   },
   "outputs": [],
   "source": [
    "# Creating a relation from a df\n",
    "rel = conn.from_df(df)\n",
    "rel.filter('age > 27').project('age + 1, sex').order('sex').limit(2) # project is like SELECT"
   ]
  },
  {
   "cell_type": "code",
   "execution_count": null,
   "id": "bb5c8a08-7037-4164-bd66-fccb24204177",
   "metadata": {},
   "outputs": [],
   "source": [
    "# another way to create a relation from pandas df\n",
    "rel = duckdb.df(df)"
   ]
  },
  {
   "cell_type": "code",
   "execution_count": null,
   "id": "0cbfd449-ab2d-45dc-97c6-56eb31b434f9",
   "metadata": {
    "tags": []
   },
   "outputs": [],
   "source": [
    "rel"
   ]
  },
  {
   "cell_type": "code",
   "execution_count": null,
   "id": "8fabb3b3-9f48-4ad5-bd30-fb2028d5e34e",
   "metadata": {
    "tags": []
   },
   "outputs": [],
   "source": [
    "# rel from existing table\n",
    "rel = conn.table('test_table')\n",
    "rel"
   ]
  },
  {
   "cell_type": "code",
   "execution_count": null,
   "id": "928d44a0-82a4-4778-98d7-353a400b3672",
   "metadata": {
    "tags": []
   },
   "outputs": [],
   "source": [
    "# loading data from csv directly into rel\n",
    "rel = duckdb.from_csv_auto(r\"E:\\app_data\\sec_apps_data\\bank_data.csv\")\n",
    "rel"
   ]
  },
  {
   "cell_type": "code",
   "execution_count": null,
   "id": "76590029-bf94-4456-bde4-41289c2d90af",
   "metadata": {},
   "outputs": [],
   "source": [
    "rel.alias"
   ]
  },
  {
   "cell_type": "code",
   "execution_count": null,
   "id": "d751e1ab-ab57-49cb-8ca8-688ef12dadb4",
   "metadata": {},
   "outputs": [],
   "source": [
    "rel2 = rel.set_alias('bank_data')\n",
    "rel2.alias"
   ]
  },
  {
   "cell_type": "code",
   "execution_count": null,
   "id": "8fc9dad2-a2d7-44fa-8fef-765c190cf1f5",
   "metadata": {},
   "outputs": [],
   "source": [
    "rel2.type"
   ]
  },
  {
   "cell_type": "code",
   "execution_count": null,
   "id": "fbe370e5-59f2-4c51-a543-9af189533a12",
   "metadata": {},
   "outputs": [],
   "source": [
    "rel2.columns"
   ]
  },
  {
   "cell_type": "code",
   "execution_count": null,
   "id": "c085e387-1b3e-4f3b-ad11-f43a37a34781",
   "metadata": {},
   "outputs": [],
   "source": [
    "rel2.types"
   ]
  },
  {
   "cell_type": "markdown",
   "id": "a114c848-426b-4bc4-82cc-9277d1144d8a",
   "metadata": {},
   "source": [
    "### Applyting python like functions"
   ]
  },
  {
   "cell_type": "code",
   "execution_count": null,
   "id": "87cf4c53-51bb-4d0f-b5ce-0373ecb301ca",
   "metadata": {
    "tags": []
   },
   "outputs": [],
   "source": [
    "rel2.filter('age > 18').order('sex')"
   ]
  },
  {
   "cell_type": "code",
   "execution_count": null,
   "id": "a76271a3-0950-4cf7-8b24-77e14e6a25c0",
   "metadata": {},
   "outputs": [],
   "source": [
    "# project is like SELECT in SQL\n",
    "rel2.project('id, age')"
   ]
  },
  {
   "cell_type": "code",
   "execution_count": null,
   "id": "e94231d8-907b-4662-8d75-93d5bf27c44f",
   "metadata": {
    "tags": []
   },
   "outputs": [],
   "source": [
    "# we can transform data in column. For example adding 2 to age column\n",
    "rel2.project('age + 2')"
   ]
  },
  {
   "cell_type": "code",
   "execution_count": null,
   "id": "49727523-f56e-4492-a214-38c5cee2be50",
   "metadata": {},
   "outputs": [],
   "source": [
    "rel2.order('sex')"
   ]
  },
  {
   "cell_type": "code",
   "execution_count": null,
   "id": "12b0032b-e68e-484d-a209-73d189f0be9d",
   "metadata": {
    "tags": []
   },
   "outputs": [],
   "source": [
    "# limnit the output like .head()\n",
    "rel2.limit(5)"
   ]
  },
  {
   "cell_type": "code",
   "execution_count": null,
   "id": "b7458c80-5918-46ec-a866-86603c684961",
   "metadata": {
    "tags": []
   },
   "outputs": [],
   "source": [
    "# chaining functions together\n",
    "rel2.filter('age > 19').project('age + 1, sex').order('sex').limit(2)"
   ]
  },
  {
   "cell_type": "code",
   "execution_count": null,
   "id": "6cc3106b-e908-45ad-9873-c5cec7456340",
   "metadata": {
    "tags": []
   },
   "outputs": [],
   "source": [
    "rel2.df().age > 19"
   ]
  },
  {
   "cell_type": "code",
   "execution_count": null,
   "id": "c795a74b-e89b-4c5e-9e54-c69b5533b89d",
   "metadata": {
    "tags": []
   },
   "outputs": [],
   "source": [
    "rel2.df().query('age > 19')"
   ]
  },
  {
   "cell_type": "code",
   "execution_count": null,
   "id": "30627e83-8502-430a-92a1-cae02febc73a",
   "metadata": {},
   "outputs": [],
   "source": [
    "mask = rel2.df().age > 19"
   ]
  },
  {
   "cell_type": "code",
   "execution_count": null,
   "id": "77658e81-1700-465e-a782-08184e32c5ec",
   "metadata": {
    "tags": []
   },
   "outputs": [],
   "source": [
    "rel2.df().age.values[mask]"
   ]
  },
  {
   "cell_type": "markdown",
   "id": "1b38d6f8-e7fd-4769-aeb7-6254414edd28",
   "metadata": {},
   "source": [
    "### Aggregate functions"
   ]
  },
  {
   "cell_type": "code",
   "execution_count": null,
   "id": "6b0540ef-0a0b-44e0-bc2c-86a2edcea607",
   "metadata": {},
   "outputs": [],
   "source": [
    "rel2.aggregate(\"sum(actual_recovery_amount)\")"
   ]
  },
  {
   "cell_type": "code",
   "execution_count": null,
   "id": "ca4f038d-cbb1-43c5-87f7-ce94704a874a",
   "metadata": {
    "tags": []
   },
   "outputs": [],
   "source": [
    "# if we specify first a column without agggregation and then a column with, then it'll \n",
    "# work as a group by for the first column\n",
    "rel2.aggregate(\"age, sum(actual_recovery_amount)\")"
   ]
  },
  {
   "cell_type": "code",
   "execution_count": null,
   "id": "6ae0d24d-b0c2-4b1a-bdf2-5c034d42b949",
   "metadata": {
    "tags": []
   },
   "outputs": [],
   "source": [
    "# if we want just one colulmn with the group by data then we reverse the colulmns' posisions\n",
    "rel2.aggregate(\"sum(actual_recovery_amount)\", \"age\")"
   ]
  },
  {
   "cell_type": "code",
   "execution_count": null,
   "id": "c5cc58c8-7272-4fcb-8fc2-569545f12781",
   "metadata": {
    "tags": []
   },
   "outputs": [],
   "source": [
    "# distinct\n",
    "rel2.distinct()"
   ]
  },
  {
   "cell_type": "code",
   "execution_count": null,
   "id": "b418736c-ba56-4ff3-af27-17174f1fe60d",
   "metadata": {},
   "outputs": [],
   "source": [
    "# union\n",
    "rel2.union(rel2)"
   ]
  },
  {
   "cell_type": "code",
   "execution_count": null,
   "id": "efa4223c-fc89-4b85-9047-39a9e95450a9",
   "metadata": {
    "tags": []
   },
   "outputs": [],
   "source": [
    "# joins\n",
    "rel3 = duckdb.df(df)\n",
    "rel3\n",
    "rel2.join(rel3, 'id')"
   ]
  },
  {
   "cell_type": "code",
   "execution_count": null,
   "id": "2181fbc6-2ca6-4380-ba26-7d5f275eac45",
   "metadata": {},
   "outputs": [],
   "source": [
    "print(rel2.set_alias('a').join(rel3.set_alias('b'), 'a.id=b.id'))"
   ]
  },
  {
   "cell_type": "code",
   "execution_count": null,
   "id": "1339e7dc-2baa-49ad-9730-59e069b0a571",
   "metadata": {},
   "outputs": [],
   "source": [
    "# we can work directly with the df through duckdb\n",
    "print(duckdb.filter(df, 'age > 1'))\n",
    "print(duckdb.project(df, 'age +1'))\n",
    "print(duckdb.order(df, 'sex'))\n",
    "print(duckdb.limit(df, 2))"
   ]
  },
  {
   "cell_type": "code",
   "execution_count": null,
   "id": "cfc6da01-d834-4385-ac13-1799c7b8f2f8",
   "metadata": {},
   "outputs": [],
   "source": [
    "# compute the query result from the relation \n",
    "res = rel2.execute()\n",
    "print(res)"
   ]
  },
  {
   "cell_type": "code",
   "execution_count": null,
   "id": "b804ba84-0e55-49fc-a6fd-4da9d6cb0384",
   "metadata": {
    "tags": []
   },
   "outputs": [],
   "source": [
    "# res is a query result, you can call fetchdf() or fetchnumpy() or fetchone() on it\n",
    "print(res.fetchone())\n",
    "# print(res.fetchall())\n",
    "print(res.df())"
   ]
  },
  {
   "cell_type": "markdown",
   "id": "5c401c68-0c09-4eae-9cc0-56dc6e81aa15",
   "metadata": {},
   "source": [
    "### Create tables"
   ]
  },
  {
   "cell_type": "code",
   "execution_count": null,
   "id": "8c04ab37-9d35-41d5-88f8-dabf0cc1a985",
   "metadata": {},
   "outputs": [],
   "source": [
    "rel.create('test_table2')"
   ]
  },
  {
   "cell_type": "code",
   "execution_count": null,
   "id": "4760c229-4d03-4072-86fd-051d60e7bf6d",
   "metadata": {},
   "outputs": [],
   "source": [
    "# Inserting elements into table_3\n",
    "conn.execute(\"CREATE TABLE test_table3 (i INTEGER, j STRING)\")\n",
    "print(conn.values([5, 'five']).insert_into(\"test_table3\"))\n",
    "rel_3 = conn.table(\"test_table3\")\n",
    "rel_3.insert([6,'six'])\n",
    "rel_3"
   ]
  },
  {
   "cell_type": "code",
   "execution_count": null,
   "id": "861e911c-60d5-4b71-808e-1d8874c5292e",
   "metadata": {
    "tags": []
   },
   "outputs": [],
   "source": [
    "# conn.execute(\"CREATE TABLE test_table4 AS SELECT * FROM df\")\n",
    "conn.execute(\" SELECT * FROM test_table4\").df()"
   ]
  },
  {
   "cell_type": "code",
   "execution_count": null,
   "id": "94bceccd-85d3-491d-bfd5-c8d8d8eb0947",
   "metadata": {
    "tags": []
   },
   "outputs": [],
   "source": [
    "conn.execute(\"DROP TABLE test_table5\")"
   ]
  },
  {
   "cell_type": "code",
   "execution_count": null,
   "id": "600f8165-4eff-4653-9725-3b362740c21e",
   "metadata": {
    "tags": []
   },
   "outputs": [],
   "source": [
    "# Inserting elements into table_3\n",
    "conn.execute(\"CREATE TABLE test_table7 (i INTEGER, j STRING)\")\n",
    "print(conn.values([5, 'five']).insert_into(\"test_table7\"))\n",
    "rel_3 = conn.table(\"test_table7\")\n",
    "rel_3.insert([6,'six'])\n",
    "rel_3"
   ]
  },
  {
   "cell_type": "code",
   "execution_count": null,
   "id": "1c51783b-2624-4d0b-8482-0e003a663b41",
   "metadata": {},
   "outputs": [],
   "source": [
    "# we can write queries and later fetch the result of them "
   ]
  },
  {
   "cell_type": "code",
   "execution_count": null,
   "id": "f206ecbf-d0ac-41b2-a30b-ccb02584451c",
   "metadata": {},
   "outputs": [],
   "source": [
    "res = rel.query('my_name_for_rel', 'SELECT * FROM my_name_for_rel LIMIT 5')"
   ]
  },
  {
   "cell_type": "code",
   "execution_count": null,
   "id": "2c581c77-7eaa-4f8b-bda7-8e5ffff899e6",
   "metadata": {
    "tags": []
   },
   "outputs": [],
   "source": [
    "res.fetchall()"
   ]
  },
  {
   "cell_type": "code",
   "execution_count": null,
   "id": "f4380c20-84a5-4d09-bf1d-fb2968e18f51",
   "metadata": {
    "tags": []
   },
   "outputs": [],
   "source": [
    "res = duckdb.query('SELECT * FROM df')\n",
    "res.df()"
   ]
  },
  {
   "cell_type": "code",
   "execution_count": null,
   "id": "f6210610-e83e-47ae-8aab-7ed62dceabd0",
   "metadata": {},
   "outputs": [],
   "source": []
  },
  {
   "cell_type": "code",
   "execution_count": null,
   "id": "dae0c121-3767-41fa-864d-b1fa8308c633",
   "metadata": {},
   "outputs": [],
   "source": []
  },
  {
   "cell_type": "code",
   "execution_count": null,
   "id": "b7c73bb2-289e-46c1-8b20-d4c9bc57abcb",
   "metadata": {},
   "outputs": [],
   "source": []
  },
  {
   "cell_type": "code",
   "execution_count": null,
   "id": "fb938697-580a-45ff-bbd7-b445082f092c",
   "metadata": {},
   "outputs": [],
   "source": []
  },
  {
   "cell_type": "code",
   "execution_count": null,
   "id": "568fbb50-2040-48ac-a585-923f54197224",
   "metadata": {},
   "outputs": [],
   "source": []
  },
  {
   "cell_type": "code",
   "execution_count": null,
   "id": "8e42f347-0943-426d-9122-eb8920eb106d",
   "metadata": {},
   "outputs": [],
   "source": []
  },
  {
   "cell_type": "code",
   "execution_count": null,
   "id": "a09e1996-0bd1-4923-8014-86d1de0f0e3f",
   "metadata": {},
   "outputs": [],
   "source": []
  },
  {
   "cell_type": "markdown",
   "id": "a853ca9d-b412-43fb-93c2-eedfab9bc070",
   "metadata": {},
   "source": [
    "# The code below is not relevant to the tut, but it's an attempt to a solution to write data to a Duckdb table without duplicates. There is no UPSERT or IGNORE functionality, so this solution becomes more important."
   ]
  },
  {
   "cell_type": "code",
   "execution_count": null,
   "id": "55dea8ef-234d-4a43-803d-db7a61823285",
   "metadata": {
    "tags": []
   },
   "outputs": [],
   "source": [
    "# This piece of code remove duplicates from the df. It could be an option to use\n",
    "# in my app and \n",
    "conn.execute(\"SELECT * from test_table \").df().drop_duplicates(keep=\"last\").tail(6)\n"
   ]
  },
  {
   "cell_type": "code",
   "execution_count": null,
   "id": "d3586f44-e5b9-4766-ba9a-279f20d4fdad",
   "metadata": {
    "tags": []
   },
   "outputs": [],
   "source": [
    "# Insert data into a table from a df\n",
    "conn.execute(\"INSERT INTO test_table SELECT * FROM read_csv_auto('E:\\\\app_data\\sec_apps_data\\data2.csv', delim=',', header=True)\")"
   ]
  },
  {
   "cell_type": "code",
   "execution_count": null,
   "id": "8fb198a7-a143-4ed6-9b5e-f3594a53649b",
   "metadata": {
    "tags": []
   },
   "outputs": [],
   "source": [
    "# Create a pandas df\n",
    "import pandas as pd\n",
    "# my_df = pd.DataFrame.from_dict({'a': [42],'b': [43],'c': [44]})\n",
    "my_df = pd.read_csv(r\"E:\\app_data\\sec_apps_data\\data2.csv\")\n"
   ]
  },
  {
   "cell_type": "code",
   "execution_count": null,
   "id": "95ce571a-7819-431d-957c-4468edd38b6e",
   "metadata": {
    "tags": []
   },
   "outputs": [],
   "source": [
    "my_df.head()\n",
    "# type(my_df)"
   ]
  },
  {
   "cell_type": "code",
   "execution_count": null,
   "id": "d150add5-9679-4f26-a3d1-2f7910dc59d8",
   "metadata": {
    "tags": []
   },
   "outputs": [],
   "source": [
    "# Create a table from df\n",
    "# conn.execute(\"DROP TABLE my_table\")\n",
    "conn.execute(\"CREATE TABLE IF NOT EXISTS my_table AS SELECT * FROM my_df\")\n",
    "conn.execute(\"CREATE TABLE IF NOT EXISTS staging_my_table AS SELECT * FROM my_table\")\n",
    "conn.execute(\"INSERT INTO staging_my_table SELECT * FROM my_df\")\n",
    "conn.execute(\"\"\"\n",
    "INSERT INTO my_table \n",
    "SELECT * FROM staging_my_table\n",
    "WHERE accessionNumber NOT IN (SELECT accessionNumber FROM my_table)\n",
    "\"\"\")"
   ]
  },
  {
   "cell_type": "code",
   "execution_count": null,
   "id": "735967dd-4985-44c2-955b-90721e1c87aa",
   "metadata": {
    "tags": []
   },
   "outputs": [],
   "source": [
    "conn.execute(\"SELECT rowid, * FROM my_table\").df()"
   ]
  },
  {
   "cell_type": "code",
   "execution_count": null,
   "id": "c6a0fbbe-a0f0-4a8d-bdc9-0ef5a76a90ed",
   "metadata": {},
   "outputs": [],
   "source": []
  },
  {
   "cell_type": "code",
   "execution_count": null,
   "id": "06d28c90-e58f-401a-bdee-d3ffdf075f90",
   "metadata": {
    "tags": []
   },
   "outputs": [],
   "source": [
    "# conn.execute(\"SELECT rowid, * FROM my_table\").df()\n",
    "conn.execute(\"SELECT * FROM staging_my_table\").df()\n"
   ]
  },
  {
   "cell_type": "code",
   "execution_count": null,
   "id": "1c212c18-e936-430c-a3df-17712d79032a",
   "metadata": {
    "tags": []
   },
   "outputs": [],
   "source": [
    "# Insert the same data into the same table again from a df - it creates duplicate data\n",
    "conn.execute(\"INSERT INTO staging_my_table SELECT * FROM read_csv_auto('E:\\\\app_data\\sec_apps_data\\data2.csv', delim=',', header=True)\")"
   ]
  },
  {
   "cell_type": "code",
   "execution_count": null,
   "id": "c1176f0f-c433-4a78-950d-9b8f58408026",
   "metadata": {},
   "outputs": [],
   "source": []
  },
  {
   "cell_type": "code",
   "execution_count": null,
   "id": "a23ea153-54a9-4cb7-ab7a-9bd1e7191356",
   "metadata": {},
   "outputs": [],
   "source": []
  },
  {
   "cell_type": "code",
   "execution_count": null,
   "id": "20be2fb9-0d1f-4111-bcf1-b7a7fa14386a",
   "metadata": {},
   "outputs": [],
   "source": []
  },
  {
   "cell_type": "code",
   "execution_count": null,
   "id": "0e63eb38-3971-44ea-987a-d9ccda0c1f4c",
   "metadata": {},
   "outputs": [],
   "source": []
  },
  {
   "cell_type": "code",
   "execution_count": null,
   "id": "3adde5c5-9137-4578-9fdd-c2af87abcca6",
   "metadata": {},
   "outputs": [],
   "source": []
  },
  {
   "cell_type": "code",
   "execution_count": null,
   "id": "7d15b80d-b13d-4ab9-9f20-2e7906c7ccb9",
   "metadata": {
    "tags": []
   },
   "outputs": [],
   "source": [
    "conn.execute(\"\"\"ALTER TABLE my_table\n",
    "  ADD CONSTRAINT my_table_pk\n",
    "    PRIMARY KEY (accessionNumber, cikManager)\"\"\")"
   ]
  },
  {
   "cell_type": "code",
   "execution_count": null,
   "id": "fbf26e82-7f54-485e-8eb4-56b764ebaa87",
   "metadata": {},
   "outputs": [],
   "source": []
  },
  {
   "cell_type": "code",
   "execution_count": null,
   "id": "261483cd-04d1-46cf-b608-d5faa222c8d4",
   "metadata": {},
   "outputs": [],
   "source": []
  },
  {
   "cell_type": "code",
   "execution_count": null,
   "id": "301d8510-4df7-4624-b816-8716ec741eba",
   "metadata": {},
   "outputs": [],
   "source": []
  },
  {
   "cell_type": "code",
   "execution_count": null,
   "id": "3f898fe9-a67c-4965-a29c-cf2c50fa9d54",
   "metadata": {},
   "outputs": [],
   "source": []
  },
  {
   "cell_type": "code",
   "execution_count": null,
   "id": "843e782f-012b-4558-be85-deb9710562bc",
   "metadata": {},
   "outputs": [],
   "source": []
  }
 ],
 "metadata": {
  "kernelspec": {
   "display_name": "Python 3 (ipykernel)",
   "language": "python",
   "name": "python3"
  },
  "language_info": {
   "codemirror_mode": {
    "name": "ipython",
    "version": 3
   },
   "file_extension": ".py",
   "mimetype": "text/x-python",
   "name": "python",
   "nbconvert_exporter": "python",
   "pygments_lexer": "ipython3",
   "version": "3.9.7"
  }
 },
 "nbformat": 4,
 "nbformat_minor": 5
}
