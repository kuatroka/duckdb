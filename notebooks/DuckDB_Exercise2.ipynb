{
  "cells": [
    {
      "cell_type": "markdown",
      "metadata": {
        "id": "x4UIW8GUQaqt"
      },
      "source": [
        "# **SETUP**"
      ]
    },
    {
      "cell_type": "markdown",
      "metadata": {
        "id": "XXvRwAVPGtiX"
      },
      "source": [
        "First we need to install DuckDB.\n"
      ]
    },
    {
      "cell_type": "code",
      "execution_count": 1,
      "metadata": {
        "colab": {
          "base_uri": "https://localhost:8080/"
        },
        "id": "IFC0Acb9Gu8W",
        "outputId": "52b419bd-e1dc-4baf-ac03-9be5aafeebd3"
      },
      "outputs": [
        {
          "name": "stdout",
          "output_type": "stream",
          "text": [
            "Collecting duckdb\n",
            "  Downloading duckdb-0.3.5.dev46-cp37-cp37m-manylinux_2_17_x86_64.manylinux2014_x86_64.whl (14.0 MB)\n",
            "\u001b[K     |████████████████████████████████| 14.0 MB 4.9 MB/s \n",
            "\u001b[?25hRequirement already satisfied: numpy>=1.14 in /usr/local/lib/python3.7/dist-packages (from duckdb) (1.21.6)\n",
            "Installing collected packages: duckdb\n",
            "Successfully installed duckdb-0.3.5.dev46\n"
          ]
        }
      ],
      "source": [
        "!pip install duckdb --pre"
      ]
    },
    {
      "cell_type": "markdown",
      "metadata": {
        "id": "ryMJZSckLmqG"
      },
      "source": [
        "# **Loading The Data**\n"
      ]
    },
    {
      "cell_type": "markdown",
      "metadata": {
        "id": "EJSvVxkOL6af"
      },
      "source": [
        "We will work with a generated dataset from the TPC-H benchmark. DuckDB has built-in support for generating the dataset using the `dbgen` procedure.\n",
        "\n",
        "We create an in-memory database and generate the data inside DuckDB using the following code snippet.\n",
        "\n"
      ]
    },
    {
      "cell_type": "code",
      "execution_count": 2,
      "metadata": {
        "colab": {
          "base_uri": "https://localhost:8080/"
        },
        "id": "nBPmYEMLNQ63",
        "outputId": "f373f4c4-9652-49bd-b8d7-678bb83810b5"
      },
      "outputs": [
        {
          "data": {
            "text/plain": [
              "<_duckdb_extension.DuckDBPyConnection at 0x7f0bfa0158f0>"
            ]
          },
          "execution_count": 2,
          "metadata": {},
          "output_type": "execute_result"
        }
      ],
      "source": [
        "import duckdb\n",
        "con = duckdb.connect(':memory:')\n",
        "con.execute(\"CALL dbgen(sf=0.1)\")"
      ]
    },
    {
      "cell_type": "markdown",
      "metadata": {
        "id": "sZ6-kBpMiJA1"
      },
      "source": [
        "# **Inspecting the Dataset**"
      ]
    },
    {
      "cell_type": "markdown",
      "metadata": {
        "id": "jF6R9TWOfk57"
      },
      "source": [
        "The dataset consists of eight tables. We can see which tables are present in the database using the `SHOW TABLES` command.\n",
        "\n",
        "Note that we append `.df()` to the query, this fetches the result as a Pandas DataFrame which renders nicely in Colab."
      ]
    },
    {
      "cell_type": "code",
      "execution_count": 3,
      "metadata": {
        "colab": {
          "base_uri": "https://localhost:8080/",
          "height": 300
        },
        "id": "0HyO83Gmfnfk",
        "outputId": "9dd9754a-7bee-4d4c-a190-d46729979a1f"
      },
      "outputs": [
        {
          "data": {
            "text/html": [
              "\n",
              "  <div id=\"df-3cc9bb93-4a82-4857-9128-fad67e63f359\">\n",
              "    <div class=\"colab-df-container\">\n",
              "      <div>\n",
              "<style scoped>\n",
              "    .dataframe tbody tr th:only-of-type {\n",
              "        vertical-align: middle;\n",
              "    }\n",
              "\n",
              "    .dataframe tbody tr th {\n",
              "        vertical-align: top;\n",
              "    }\n",
              "\n",
              "    .dataframe thead th {\n",
              "        text-align: right;\n",
              "    }\n",
              "</style>\n",
              "<table border=\"1\" class=\"dataframe\">\n",
              "  <thead>\n",
              "    <tr style=\"text-align: right;\">\n",
              "      <th></th>\n",
              "      <th>name</th>\n",
              "    </tr>\n",
              "  </thead>\n",
              "  <tbody>\n",
              "    <tr>\n",
              "      <th>0</th>\n",
              "      <td>customer</td>\n",
              "    </tr>\n",
              "    <tr>\n",
              "      <th>1</th>\n",
              "      <td>lineitem</td>\n",
              "    </tr>\n",
              "    <tr>\n",
              "      <th>2</th>\n",
              "      <td>nation</td>\n",
              "    </tr>\n",
              "    <tr>\n",
              "      <th>3</th>\n",
              "      <td>orders</td>\n",
              "    </tr>\n",
              "    <tr>\n",
              "      <th>4</th>\n",
              "      <td>part</td>\n",
              "    </tr>\n",
              "    <tr>\n",
              "      <th>5</th>\n",
              "      <td>partsupp</td>\n",
              "    </tr>\n",
              "    <tr>\n",
              "      <th>6</th>\n",
              "      <td>region</td>\n",
              "    </tr>\n",
              "    <tr>\n",
              "      <th>7</th>\n",
              "      <td>supplier</td>\n",
              "    </tr>\n",
              "  </tbody>\n",
              "</table>\n",
              "</div>\n",
              "      <button class=\"colab-df-convert\" onclick=\"convertToInteractive('df-3cc9bb93-4a82-4857-9128-fad67e63f359')\"\n",
              "              title=\"Convert this dataframe to an interactive table.\"\n",
              "              style=\"display:none;\">\n",
              "        \n",
              "  <svg xmlns=\"http://www.w3.org/2000/svg\" height=\"24px\"viewBox=\"0 0 24 24\"\n",
              "       width=\"24px\">\n",
              "    <path d=\"M0 0h24v24H0V0z\" fill=\"none\"/>\n",
              "    <path d=\"M18.56 5.44l.94 2.06.94-2.06 2.06-.94-2.06-.94-.94-2.06-.94 2.06-2.06.94zm-11 1L8.5 8.5l.94-2.06 2.06-.94-2.06-.94L8.5 2.5l-.94 2.06-2.06.94zm10 10l.94 2.06.94-2.06 2.06-.94-2.06-.94-.94-2.06-.94 2.06-2.06.94z\"/><path d=\"M17.41 7.96l-1.37-1.37c-.4-.4-.92-.59-1.43-.59-.52 0-1.04.2-1.43.59L10.3 9.45l-7.72 7.72c-.78.78-.78 2.05 0 2.83L4 21.41c.39.39.9.59 1.41.59.51 0 1.02-.2 1.41-.59l7.78-7.78 2.81-2.81c.8-.78.8-2.07 0-2.86zM5.41 20L4 18.59l7.72-7.72 1.47 1.35L5.41 20z\"/>\n",
              "  </svg>\n",
              "      </button>\n",
              "      \n",
              "  <style>\n",
              "    .colab-df-container {\n",
              "      display:flex;\n",
              "      flex-wrap:wrap;\n",
              "      gap: 12px;\n",
              "    }\n",
              "\n",
              "    .colab-df-convert {\n",
              "      background-color: #E8F0FE;\n",
              "      border: none;\n",
              "      border-radius: 50%;\n",
              "      cursor: pointer;\n",
              "      display: none;\n",
              "      fill: #1967D2;\n",
              "      height: 32px;\n",
              "      padding: 0 0 0 0;\n",
              "      width: 32px;\n",
              "    }\n",
              "\n",
              "    .colab-df-convert:hover {\n",
              "      background-color: #E2EBFA;\n",
              "      box-shadow: 0px 1px 2px rgba(60, 64, 67, 0.3), 0px 1px 3px 1px rgba(60, 64, 67, 0.15);\n",
              "      fill: #174EA6;\n",
              "    }\n",
              "\n",
              "    [theme=dark] .colab-df-convert {\n",
              "      background-color: #3B4455;\n",
              "      fill: #D2E3FC;\n",
              "    }\n",
              "\n",
              "    [theme=dark] .colab-df-convert:hover {\n",
              "      background-color: #434B5C;\n",
              "      box-shadow: 0px 1px 3px 1px rgba(0, 0, 0, 0.15);\n",
              "      filter: drop-shadow(0px 1px 2px rgba(0, 0, 0, 0.3));\n",
              "      fill: #FFFFFF;\n",
              "    }\n",
              "  </style>\n",
              "\n",
              "      <script>\n",
              "        const buttonEl =\n",
              "          document.querySelector('#df-3cc9bb93-4a82-4857-9128-fad67e63f359 button.colab-df-convert');\n",
              "        buttonEl.style.display =\n",
              "          google.colab.kernel.accessAllowed ? 'block' : 'none';\n",
              "\n",
              "        async function convertToInteractive(key) {\n",
              "          const element = document.querySelector('#df-3cc9bb93-4a82-4857-9128-fad67e63f359');\n",
              "          const dataTable =\n",
              "            await google.colab.kernel.invokeFunction('convertToInteractive',\n",
              "                                                     [key], {});\n",
              "          if (!dataTable) return;\n",
              "\n",
              "          const docLinkHtml = 'Like what you see? Visit the ' +\n",
              "            '<a target=\"_blank\" href=https://colab.research.google.com/notebooks/data_table.ipynb>data table notebook</a>'\n",
              "            + ' to learn more about interactive tables.';\n",
              "          element.innerHTML = '';\n",
              "          dataTable['output_type'] = 'display_data';\n",
              "          await google.colab.output.renderOutput(dataTable, element);\n",
              "          const docLink = document.createElement('div');\n",
              "          docLink.innerHTML = docLinkHtml;\n",
              "          element.appendChild(docLink);\n",
              "        }\n",
              "      </script>\n",
              "    </div>\n",
              "  </div>\n",
              "  "
            ],
            "text/plain": [
              "       name\n",
              "0  customer\n",
              "1  lineitem\n",
              "2    nation\n",
              "3    orders\n",
              "4      part\n",
              "5  partsupp\n",
              "6    region\n",
              "7  supplier"
            ]
          },
          "execution_count": 3,
          "metadata": {},
          "output_type": "execute_result"
        }
      ],
      "source": [
        "con.execute(\"SHOW TABLES\").df()"
      ]
    },
    {
      "cell_type": "markdown",
      "metadata": {
        "id": "p9ZB5Jfkf6wu"
      },
      "source": [
        "Using the `DESCRIBE` command, we can inspect the columns that are present in each of the tables. For example, we can inspect the lineitem table as follows:"
      ]
    },
    {
      "cell_type": "code",
      "execution_count": 5,
      "metadata": {
        "colab": {
          "base_uri": "https://localhost:8080/",
          "height": 551
        },
        "id": "p4HYVUZEfyuX",
        "outputId": "50db8b98-1fef-4a86-99e2-3d7cffcbcbac"
      },
      "outputs": [
        {
          "data": {
            "text/html": [
              "\n",
              "  <div id=\"df-430c2e52-227b-482c-9d6f-442349acc8e8\">\n",
              "    <div class=\"colab-df-container\">\n",
              "      <div>\n",
              "<style scoped>\n",
              "    .dataframe tbody tr th:only-of-type {\n",
              "        vertical-align: middle;\n",
              "    }\n",
              "\n",
              "    .dataframe tbody tr th {\n",
              "        vertical-align: top;\n",
              "    }\n",
              "\n",
              "    .dataframe thead th {\n",
              "        text-align: right;\n",
              "    }\n",
              "</style>\n",
              "<table border=\"1\" class=\"dataframe\">\n",
              "  <thead>\n",
              "    <tr style=\"text-align: right;\">\n",
              "      <th></th>\n",
              "      <th>column_name</th>\n",
              "      <th>column_type</th>\n",
              "      <th>null</th>\n",
              "      <th>key</th>\n",
              "      <th>default</th>\n",
              "      <th>extra</th>\n",
              "    </tr>\n",
              "  </thead>\n",
              "  <tbody>\n",
              "    <tr>\n",
              "      <th>0</th>\n",
              "      <td>l_orderkey</td>\n",
              "      <td>INTEGER</td>\n",
              "      <td>NO</td>\n",
              "      <td>NaN</td>\n",
              "      <td>NaN</td>\n",
              "      <td>NaN</td>\n",
              "    </tr>\n",
              "    <tr>\n",
              "      <th>1</th>\n",
              "      <td>l_partkey</td>\n",
              "      <td>INTEGER</td>\n",
              "      <td>NO</td>\n",
              "      <td>NaN</td>\n",
              "      <td>NaN</td>\n",
              "      <td>NaN</td>\n",
              "    </tr>\n",
              "    <tr>\n",
              "      <th>2</th>\n",
              "      <td>l_suppkey</td>\n",
              "      <td>INTEGER</td>\n",
              "      <td>NO</td>\n",
              "      <td>NaN</td>\n",
              "      <td>NaN</td>\n",
              "      <td>NaN</td>\n",
              "    </tr>\n",
              "    <tr>\n",
              "      <th>3</th>\n",
              "      <td>l_linenumber</td>\n",
              "      <td>INTEGER</td>\n",
              "      <td>NO</td>\n",
              "      <td>NaN</td>\n",
              "      <td>NaN</td>\n",
              "      <td>NaN</td>\n",
              "    </tr>\n",
              "    <tr>\n",
              "      <th>4</th>\n",
              "      <td>l_quantity</td>\n",
              "      <td>INTEGER</td>\n",
              "      <td>NO</td>\n",
              "      <td>NaN</td>\n",
              "      <td>NaN</td>\n",
              "      <td>NaN</td>\n",
              "    </tr>\n",
              "    <tr>\n",
              "      <th>5</th>\n",
              "      <td>l_extendedprice</td>\n",
              "      <td>DECIMAL(15,2)</td>\n",
              "      <td>NO</td>\n",
              "      <td>NaN</td>\n",
              "      <td>NaN</td>\n",
              "      <td>NaN</td>\n",
              "    </tr>\n",
              "    <tr>\n",
              "      <th>6</th>\n",
              "      <td>l_discount</td>\n",
              "      <td>DECIMAL(15,2)</td>\n",
              "      <td>NO</td>\n",
              "      <td>NaN</td>\n",
              "      <td>NaN</td>\n",
              "      <td>NaN</td>\n",
              "    </tr>\n",
              "    <tr>\n",
              "      <th>7</th>\n",
              "      <td>l_tax</td>\n",
              "      <td>DECIMAL(15,2)</td>\n",
              "      <td>NO</td>\n",
              "      <td>NaN</td>\n",
              "      <td>NaN</td>\n",
              "      <td>NaN</td>\n",
              "    </tr>\n",
              "    <tr>\n",
              "      <th>8</th>\n",
              "      <td>l_returnflag</td>\n",
              "      <td>VARCHAR</td>\n",
              "      <td>NO</td>\n",
              "      <td>NaN</td>\n",
              "      <td>NaN</td>\n",
              "      <td>NaN</td>\n",
              "    </tr>\n",
              "    <tr>\n",
              "      <th>9</th>\n",
              "      <td>l_linestatus</td>\n",
              "      <td>VARCHAR</td>\n",
              "      <td>NO</td>\n",
              "      <td>NaN</td>\n",
              "      <td>NaN</td>\n",
              "      <td>NaN</td>\n",
              "    </tr>\n",
              "    <tr>\n",
              "      <th>10</th>\n",
              "      <td>l_shipdate</td>\n",
              "      <td>DATE</td>\n",
              "      <td>NO</td>\n",
              "      <td>NaN</td>\n",
              "      <td>NaN</td>\n",
              "      <td>NaN</td>\n",
              "    </tr>\n",
              "    <tr>\n",
              "      <th>11</th>\n",
              "      <td>l_commitdate</td>\n",
              "      <td>DATE</td>\n",
              "      <td>NO</td>\n",
              "      <td>NaN</td>\n",
              "      <td>NaN</td>\n",
              "      <td>NaN</td>\n",
              "    </tr>\n",
              "    <tr>\n",
              "      <th>12</th>\n",
              "      <td>l_receiptdate</td>\n",
              "      <td>DATE</td>\n",
              "      <td>NO</td>\n",
              "      <td>NaN</td>\n",
              "      <td>NaN</td>\n",
              "      <td>NaN</td>\n",
              "    </tr>\n",
              "    <tr>\n",
              "      <th>13</th>\n",
              "      <td>l_shipinstruct</td>\n",
              "      <td>VARCHAR</td>\n",
              "      <td>NO</td>\n",
              "      <td>NaN</td>\n",
              "      <td>NaN</td>\n",
              "      <td>NaN</td>\n",
              "    </tr>\n",
              "    <tr>\n",
              "      <th>14</th>\n",
              "      <td>l_shipmode</td>\n",
              "      <td>VARCHAR</td>\n",
              "      <td>NO</td>\n",
              "      <td>NaN</td>\n",
              "      <td>NaN</td>\n",
              "      <td>NaN</td>\n",
              "    </tr>\n",
              "    <tr>\n",
              "      <th>15</th>\n",
              "      <td>l_comment</td>\n",
              "      <td>VARCHAR</td>\n",
              "      <td>NO</td>\n",
              "      <td>NaN</td>\n",
              "      <td>NaN</td>\n",
              "      <td>NaN</td>\n",
              "    </tr>\n",
              "  </tbody>\n",
              "</table>\n",
              "</div>\n",
              "      <button class=\"colab-df-convert\" onclick=\"convertToInteractive('df-430c2e52-227b-482c-9d6f-442349acc8e8')\"\n",
              "              title=\"Convert this dataframe to an interactive table.\"\n",
              "              style=\"display:none;\">\n",
              "        \n",
              "  <svg xmlns=\"http://www.w3.org/2000/svg\" height=\"24px\"viewBox=\"0 0 24 24\"\n",
              "       width=\"24px\">\n",
              "    <path d=\"M0 0h24v24H0V0z\" fill=\"none\"/>\n",
              "    <path d=\"M18.56 5.44l.94 2.06.94-2.06 2.06-.94-2.06-.94-.94-2.06-.94 2.06-2.06.94zm-11 1L8.5 8.5l.94-2.06 2.06-.94-2.06-.94L8.5 2.5l-.94 2.06-2.06.94zm10 10l.94 2.06.94-2.06 2.06-.94-2.06-.94-.94-2.06-.94 2.06-2.06.94z\"/><path d=\"M17.41 7.96l-1.37-1.37c-.4-.4-.92-.59-1.43-.59-.52 0-1.04.2-1.43.59L10.3 9.45l-7.72 7.72c-.78.78-.78 2.05 0 2.83L4 21.41c.39.39.9.59 1.41.59.51 0 1.02-.2 1.41-.59l7.78-7.78 2.81-2.81c.8-.78.8-2.07 0-2.86zM5.41 20L4 18.59l7.72-7.72 1.47 1.35L5.41 20z\"/>\n",
              "  </svg>\n",
              "      </button>\n",
              "      \n",
              "  <style>\n",
              "    .colab-df-container {\n",
              "      display:flex;\n",
              "      flex-wrap:wrap;\n",
              "      gap: 12px;\n",
              "    }\n",
              "\n",
              "    .colab-df-convert {\n",
              "      background-color: #E8F0FE;\n",
              "      border: none;\n",
              "      border-radius: 50%;\n",
              "      cursor: pointer;\n",
              "      display: none;\n",
              "      fill: #1967D2;\n",
              "      height: 32px;\n",
              "      padding: 0 0 0 0;\n",
              "      width: 32px;\n",
              "    }\n",
              "\n",
              "    .colab-df-convert:hover {\n",
              "      background-color: #E2EBFA;\n",
              "      box-shadow: 0px 1px 2px rgba(60, 64, 67, 0.3), 0px 1px 3px 1px rgba(60, 64, 67, 0.15);\n",
              "      fill: #174EA6;\n",
              "    }\n",
              "\n",
              "    [theme=dark] .colab-df-convert {\n",
              "      background-color: #3B4455;\n",
              "      fill: #D2E3FC;\n",
              "    }\n",
              "\n",
              "    [theme=dark] .colab-df-convert:hover {\n",
              "      background-color: #434B5C;\n",
              "      box-shadow: 0px 1px 3px 1px rgba(0, 0, 0, 0.15);\n",
              "      filter: drop-shadow(0px 1px 2px rgba(0, 0, 0, 0.3));\n",
              "      fill: #FFFFFF;\n",
              "    }\n",
              "  </style>\n",
              "\n",
              "      <script>\n",
              "        const buttonEl =\n",
              "          document.querySelector('#df-430c2e52-227b-482c-9d6f-442349acc8e8 button.colab-df-convert');\n",
              "        buttonEl.style.display =\n",
              "          google.colab.kernel.accessAllowed ? 'block' : 'none';\n",
              "\n",
              "        async function convertToInteractive(key) {\n",
              "          const element = document.querySelector('#df-430c2e52-227b-482c-9d6f-442349acc8e8');\n",
              "          const dataTable =\n",
              "            await google.colab.kernel.invokeFunction('convertToInteractive',\n",
              "                                                     [key], {});\n",
              "          if (!dataTable) return;\n",
              "\n",
              "          const docLinkHtml = 'Like what you see? Visit the ' +\n",
              "            '<a target=\"_blank\" href=https://colab.research.google.com/notebooks/data_table.ipynb>data table notebook</a>'\n",
              "            + ' to learn more about interactive tables.';\n",
              "          element.innerHTML = '';\n",
              "          dataTable['output_type'] = 'display_data';\n",
              "          await google.colab.output.renderOutput(dataTable, element);\n",
              "          const docLink = document.createElement('div');\n",
              "          docLink.innerHTML = docLinkHtml;\n",
              "          element.appendChild(docLink);\n",
              "        }\n",
              "      </script>\n",
              "    </div>\n",
              "  </div>\n",
              "  "
            ],
            "text/plain": [
              "        column_name    column_type null  key default  extra\n",
              "0        l_orderkey        INTEGER   NO  NaN     NaN    NaN\n",
              "1         l_partkey        INTEGER   NO  NaN     NaN    NaN\n",
              "2         l_suppkey        INTEGER   NO  NaN     NaN    NaN\n",
              "3      l_linenumber        INTEGER   NO  NaN     NaN    NaN\n",
              "4        l_quantity        INTEGER   NO  NaN     NaN    NaN\n",
              "5   l_extendedprice  DECIMAL(15,2)   NO  NaN     NaN    NaN\n",
              "6        l_discount  DECIMAL(15,2)   NO  NaN     NaN    NaN\n",
              "7             l_tax  DECIMAL(15,2)   NO  NaN     NaN    NaN\n",
              "8      l_returnflag        VARCHAR   NO  NaN     NaN    NaN\n",
              "9      l_linestatus        VARCHAR   NO  NaN     NaN    NaN\n",
              "10       l_shipdate           DATE   NO  NaN     NaN    NaN\n",
              "11     l_commitdate           DATE   NO  NaN     NaN    NaN\n",
              "12    l_receiptdate           DATE   NO  NaN     NaN    NaN\n",
              "13   l_shipinstruct        VARCHAR   NO  NaN     NaN    NaN\n",
              "14       l_shipmode        VARCHAR   NO  NaN     NaN    NaN\n",
              "15        l_comment        VARCHAR   NO  NaN     NaN    NaN"
            ]
          },
          "execution_count": 5,
          "metadata": {},
          "output_type": "execute_result"
        }
      ],
      "source": [
        "con.execute(\"DESCRIBE lineitem\").df()"
      ]
    },
    {
      "cell_type": "markdown",
      "metadata": {
        "id": "1EFUAH2siHML"
      },
      "source": [
        "We can use the `LIMIT` clause to inspect the first few rows of the lineitem table and display them."
      ]
    },
    {
      "cell_type": "code",
      "execution_count": 6,
      "metadata": {
        "colab": {
          "base_uri": "https://localhost:8080/",
          "height": 670
        },
        "id": "XuF7DKkziC2-",
        "outputId": "0c18f600-6a3c-4b42-d821-b48924f00874"
      },
      "outputs": [
        {
          "data": {
            "text/html": [
              "\n",
              "  <div id=\"df-5ed0667a-0f29-4259-becf-edd53647e0af\">\n",
              "    <div class=\"colab-df-container\">\n",
              "      <div>\n",
              "<style scoped>\n",
              "    .dataframe tbody tr th:only-of-type {\n",
              "        vertical-align: middle;\n",
              "    }\n",
              "\n",
              "    .dataframe tbody tr th {\n",
              "        vertical-align: top;\n",
              "    }\n",
              "\n",
              "    .dataframe thead th {\n",
              "        text-align: right;\n",
              "    }\n",
              "</style>\n",
              "<table border=\"1\" class=\"dataframe\">\n",
              "  <thead>\n",
              "    <tr style=\"text-align: right;\">\n",
              "      <th></th>\n",
              "      <th>l_orderkey</th>\n",
              "      <th>l_partkey</th>\n",
              "      <th>l_suppkey</th>\n",
              "      <th>l_linenumber</th>\n",
              "      <th>l_quantity</th>\n",
              "      <th>l_extendedprice</th>\n",
              "      <th>l_discount</th>\n",
              "      <th>l_tax</th>\n",
              "      <th>l_returnflag</th>\n",
              "      <th>l_linestatus</th>\n",
              "      <th>l_shipdate</th>\n",
              "      <th>l_commitdate</th>\n",
              "      <th>l_receiptdate</th>\n",
              "      <th>l_shipinstruct</th>\n",
              "      <th>l_shipmode</th>\n",
              "      <th>l_comment</th>\n",
              "    </tr>\n",
              "  </thead>\n",
              "  <tbody>\n",
              "    <tr>\n",
              "      <th>0</th>\n",
              "      <td>1</td>\n",
              "      <td>15519</td>\n",
              "      <td>785</td>\n",
              "      <td>1</td>\n",
              "      <td>17</td>\n",
              "      <td>24386.67</td>\n",
              "      <td>0.04</td>\n",
              "      <td>0.02</td>\n",
              "      <td>N</td>\n",
              "      <td>O</td>\n",
              "      <td>1996-03-13</td>\n",
              "      <td>1996-02-12</td>\n",
              "      <td>1996-03-22</td>\n",
              "      <td>DELIVER IN PERSON</td>\n",
              "      <td>TRUCK</td>\n",
              "      <td>egular courts above the</td>\n",
              "    </tr>\n",
              "    <tr>\n",
              "      <th>1</th>\n",
              "      <td>1</td>\n",
              "      <td>6731</td>\n",
              "      <td>732</td>\n",
              "      <td>2</td>\n",
              "      <td>36</td>\n",
              "      <td>58958.28</td>\n",
              "      <td>0.09</td>\n",
              "      <td>0.06</td>\n",
              "      <td>N</td>\n",
              "      <td>O</td>\n",
              "      <td>1996-04-12</td>\n",
              "      <td>1996-02-28</td>\n",
              "      <td>1996-04-20</td>\n",
              "      <td>TAKE BACK RETURN</td>\n",
              "      <td>MAIL</td>\n",
              "      <td>ly final dependencies: slyly bold</td>\n",
              "    </tr>\n",
              "    <tr>\n",
              "      <th>2</th>\n",
              "      <td>1</td>\n",
              "      <td>6370</td>\n",
              "      <td>371</td>\n",
              "      <td>3</td>\n",
              "      <td>8</td>\n",
              "      <td>10210.96</td>\n",
              "      <td>0.10</td>\n",
              "      <td>0.02</td>\n",
              "      <td>N</td>\n",
              "      <td>O</td>\n",
              "      <td>1996-01-29</td>\n",
              "      <td>1996-03-05</td>\n",
              "      <td>1996-01-31</td>\n",
              "      <td>TAKE BACK RETURN</td>\n",
              "      <td>REG AIR</td>\n",
              "      <td>riously. regular, express dep</td>\n",
              "    </tr>\n",
              "    <tr>\n",
              "      <th>3</th>\n",
              "      <td>1</td>\n",
              "      <td>214</td>\n",
              "      <td>465</td>\n",
              "      <td>4</td>\n",
              "      <td>28</td>\n",
              "      <td>31197.88</td>\n",
              "      <td>0.09</td>\n",
              "      <td>0.06</td>\n",
              "      <td>N</td>\n",
              "      <td>O</td>\n",
              "      <td>1996-04-21</td>\n",
              "      <td>1996-03-30</td>\n",
              "      <td>1996-05-16</td>\n",
              "      <td>NONE</td>\n",
              "      <td>AIR</td>\n",
              "      <td>lites. fluffily even de</td>\n",
              "    </tr>\n",
              "    <tr>\n",
              "      <th>4</th>\n",
              "      <td>1</td>\n",
              "      <td>2403</td>\n",
              "      <td>160</td>\n",
              "      <td>5</td>\n",
              "      <td>24</td>\n",
              "      <td>31329.60</td>\n",
              "      <td>0.10</td>\n",
              "      <td>0.04</td>\n",
              "      <td>N</td>\n",
              "      <td>O</td>\n",
              "      <td>1996-03-30</td>\n",
              "      <td>1996-03-14</td>\n",
              "      <td>1996-04-01</td>\n",
              "      <td>NONE</td>\n",
              "      <td>FOB</td>\n",
              "      <td>pending foxes. slyly re</td>\n",
              "    </tr>\n",
              "    <tr>\n",
              "      <th>5</th>\n",
              "      <td>1</td>\n",
              "      <td>1564</td>\n",
              "      <td>67</td>\n",
              "      <td>6</td>\n",
              "      <td>32</td>\n",
              "      <td>46897.92</td>\n",
              "      <td>0.07</td>\n",
              "      <td>0.02</td>\n",
              "      <td>N</td>\n",
              "      <td>O</td>\n",
              "      <td>1996-01-30</td>\n",
              "      <td>1996-02-07</td>\n",
              "      <td>1996-02-03</td>\n",
              "      <td>DELIVER IN PERSON</td>\n",
              "      <td>MAIL</td>\n",
              "      <td>arefully slyly ex</td>\n",
              "    </tr>\n",
              "    <tr>\n",
              "      <th>6</th>\n",
              "      <td>2</td>\n",
              "      <td>10617</td>\n",
              "      <td>138</td>\n",
              "      <td>1</td>\n",
              "      <td>38</td>\n",
              "      <td>58049.18</td>\n",
              "      <td>0.00</td>\n",
              "      <td>0.05</td>\n",
              "      <td>N</td>\n",
              "      <td>O</td>\n",
              "      <td>1997-01-28</td>\n",
              "      <td>1997-01-14</td>\n",
              "      <td>1997-02-02</td>\n",
              "      <td>TAKE BACK RETURN</td>\n",
              "      <td>RAIL</td>\n",
              "      <td>ven requests. deposits breach a</td>\n",
              "    </tr>\n",
              "    <tr>\n",
              "      <th>7</th>\n",
              "      <td>3</td>\n",
              "      <td>430</td>\n",
              "      <td>181</td>\n",
              "      <td>1</td>\n",
              "      <td>45</td>\n",
              "      <td>59869.35</td>\n",
              "      <td>0.06</td>\n",
              "      <td>0.00</td>\n",
              "      <td>R</td>\n",
              "      <td>F</td>\n",
              "      <td>1994-02-02</td>\n",
              "      <td>1994-01-04</td>\n",
              "      <td>1994-02-23</td>\n",
              "      <td>NONE</td>\n",
              "      <td>AIR</td>\n",
              "      <td>ongside of the furiously brave acco</td>\n",
              "    </tr>\n",
              "    <tr>\n",
              "      <th>8</th>\n",
              "      <td>3</td>\n",
              "      <td>1904</td>\n",
              "      <td>658</td>\n",
              "      <td>2</td>\n",
              "      <td>49</td>\n",
              "      <td>88489.10</td>\n",
              "      <td>0.10</td>\n",
              "      <td>0.00</td>\n",
              "      <td>R</td>\n",
              "      <td>F</td>\n",
              "      <td>1993-11-09</td>\n",
              "      <td>1993-12-20</td>\n",
              "      <td>1993-11-24</td>\n",
              "      <td>TAKE BACK RETURN</td>\n",
              "      <td>RAIL</td>\n",
              "      <td>unusual accounts. eve</td>\n",
              "    </tr>\n",
              "    <tr>\n",
              "      <th>9</th>\n",
              "      <td>3</td>\n",
              "      <td>12845</td>\n",
              "      <td>370</td>\n",
              "      <td>3</td>\n",
              "      <td>27</td>\n",
              "      <td>47461.68</td>\n",
              "      <td>0.06</td>\n",
              "      <td>0.07</td>\n",
              "      <td>A</td>\n",
              "      <td>F</td>\n",
              "      <td>1994-01-16</td>\n",
              "      <td>1993-11-22</td>\n",
              "      <td>1994-01-23</td>\n",
              "      <td>DELIVER IN PERSON</td>\n",
              "      <td>SHIP</td>\n",
              "      <td>nal foxes wake.</td>\n",
              "    </tr>\n",
              "  </tbody>\n",
              "</table>\n",
              "</div>\n",
              "      <button class=\"colab-df-convert\" onclick=\"convertToInteractive('df-5ed0667a-0f29-4259-becf-edd53647e0af')\"\n",
              "              title=\"Convert this dataframe to an interactive table.\"\n",
              "              style=\"display:none;\">\n",
              "        \n",
              "  <svg xmlns=\"http://www.w3.org/2000/svg\" height=\"24px\"viewBox=\"0 0 24 24\"\n",
              "       width=\"24px\">\n",
              "    <path d=\"M0 0h24v24H0V0z\" fill=\"none\"/>\n",
              "    <path d=\"M18.56 5.44l.94 2.06.94-2.06 2.06-.94-2.06-.94-.94-2.06-.94 2.06-2.06.94zm-11 1L8.5 8.5l.94-2.06 2.06-.94-2.06-.94L8.5 2.5l-.94 2.06-2.06.94zm10 10l.94 2.06.94-2.06 2.06-.94-2.06-.94-.94-2.06-.94 2.06-2.06.94z\"/><path d=\"M17.41 7.96l-1.37-1.37c-.4-.4-.92-.59-1.43-.59-.52 0-1.04.2-1.43.59L10.3 9.45l-7.72 7.72c-.78.78-.78 2.05 0 2.83L4 21.41c.39.39.9.59 1.41.59.51 0 1.02-.2 1.41-.59l7.78-7.78 2.81-2.81c.8-.78.8-2.07 0-2.86zM5.41 20L4 18.59l7.72-7.72 1.47 1.35L5.41 20z\"/>\n",
              "  </svg>\n",
              "      </button>\n",
              "      \n",
              "  <style>\n",
              "    .colab-df-container {\n",
              "      display:flex;\n",
              "      flex-wrap:wrap;\n",
              "      gap: 12px;\n",
              "    }\n",
              "\n",
              "    .colab-df-convert {\n",
              "      background-color: #E8F0FE;\n",
              "      border: none;\n",
              "      border-radius: 50%;\n",
              "      cursor: pointer;\n",
              "      display: none;\n",
              "      fill: #1967D2;\n",
              "      height: 32px;\n",
              "      padding: 0 0 0 0;\n",
              "      width: 32px;\n",
              "    }\n",
              "\n",
              "    .colab-df-convert:hover {\n",
              "      background-color: #E2EBFA;\n",
              "      box-shadow: 0px 1px 2px rgba(60, 64, 67, 0.3), 0px 1px 3px 1px rgba(60, 64, 67, 0.15);\n",
              "      fill: #174EA6;\n",
              "    }\n",
              "\n",
              "    [theme=dark] .colab-df-convert {\n",
              "      background-color: #3B4455;\n",
              "      fill: #D2E3FC;\n",
              "    }\n",
              "\n",
              "    [theme=dark] .colab-df-convert:hover {\n",
              "      background-color: #434B5C;\n",
              "      box-shadow: 0px 1px 3px 1px rgba(0, 0, 0, 0.15);\n",
              "      filter: drop-shadow(0px 1px 2px rgba(0, 0, 0, 0.3));\n",
              "      fill: #FFFFFF;\n",
              "    }\n",
              "  </style>\n",
              "\n",
              "      <script>\n",
              "        const buttonEl =\n",
              "          document.querySelector('#df-5ed0667a-0f29-4259-becf-edd53647e0af button.colab-df-convert');\n",
              "        buttonEl.style.display =\n",
              "          google.colab.kernel.accessAllowed ? 'block' : 'none';\n",
              "\n",
              "        async function convertToInteractive(key) {\n",
              "          const element = document.querySelector('#df-5ed0667a-0f29-4259-becf-edd53647e0af');\n",
              "          const dataTable =\n",
              "            await google.colab.kernel.invokeFunction('convertToInteractive',\n",
              "                                                     [key], {});\n",
              "          if (!dataTable) return;\n",
              "\n",
              "          const docLinkHtml = 'Like what you see? Visit the ' +\n",
              "            '<a target=\"_blank\" href=https://colab.research.google.com/notebooks/data_table.ipynb>data table notebook</a>'\n",
              "            + ' to learn more about interactive tables.';\n",
              "          element.innerHTML = '';\n",
              "          dataTable['output_type'] = 'display_data';\n",
              "          await google.colab.output.renderOutput(dataTable, element);\n",
              "          const docLink = document.createElement('div');\n",
              "          docLink.innerHTML = docLinkHtml;\n",
              "          element.appendChild(docLink);\n",
              "        }\n",
              "      </script>\n",
              "    </div>\n",
              "  </div>\n",
              "  "
            ],
            "text/plain": [
              "   l_orderkey  l_partkey  l_suppkey  l_linenumber  l_quantity  \\\n",
              "0           1      15519        785             1          17   \n",
              "1           1       6731        732             2          36   \n",
              "2           1       6370        371             3           8   \n",
              "3           1        214        465             4          28   \n",
              "4           1       2403        160             5          24   \n",
              "5           1       1564         67             6          32   \n",
              "6           2      10617        138             1          38   \n",
              "7           3        430        181             1          45   \n",
              "8           3       1904        658             2          49   \n",
              "9           3      12845        370             3          27   \n",
              "\n",
              "   l_extendedprice  l_discount  l_tax l_returnflag l_linestatus l_shipdate  \\\n",
              "0         24386.67        0.04   0.02            N            O 1996-03-13   \n",
              "1         58958.28        0.09   0.06            N            O 1996-04-12   \n",
              "2         10210.96        0.10   0.02            N            O 1996-01-29   \n",
              "3         31197.88        0.09   0.06            N            O 1996-04-21   \n",
              "4         31329.60        0.10   0.04            N            O 1996-03-30   \n",
              "5         46897.92        0.07   0.02            N            O 1996-01-30   \n",
              "6         58049.18        0.00   0.05            N            O 1997-01-28   \n",
              "7         59869.35        0.06   0.00            R            F 1994-02-02   \n",
              "8         88489.10        0.10   0.00            R            F 1993-11-09   \n",
              "9         47461.68        0.06   0.07            A            F 1994-01-16   \n",
              "\n",
              "  l_commitdate l_receiptdate     l_shipinstruct l_shipmode  \\\n",
              "0   1996-02-12    1996-03-22  DELIVER IN PERSON      TRUCK   \n",
              "1   1996-02-28    1996-04-20   TAKE BACK RETURN       MAIL   \n",
              "2   1996-03-05    1996-01-31   TAKE BACK RETURN    REG AIR   \n",
              "3   1996-03-30    1996-05-16               NONE        AIR   \n",
              "4   1996-03-14    1996-04-01               NONE        FOB   \n",
              "5   1996-02-07    1996-02-03  DELIVER IN PERSON       MAIL   \n",
              "6   1997-01-14    1997-02-02   TAKE BACK RETURN       RAIL   \n",
              "7   1994-01-04    1994-02-23               NONE        AIR   \n",
              "8   1993-12-20    1993-11-24   TAKE BACK RETURN       RAIL   \n",
              "9   1993-11-22    1994-01-23  DELIVER IN PERSON       SHIP   \n",
              "\n",
              "                             l_comment  \n",
              "0              egular courts above the  \n",
              "1   ly final dependencies: slyly bold   \n",
              "2        riously. regular, express dep  \n",
              "3              lites. fluffily even de  \n",
              "4              pending foxes. slyly re  \n",
              "5                    arefully slyly ex  \n",
              "6      ven requests. deposits breach a  \n",
              "7  ongside of the furiously brave acco  \n",
              "8                unusual accounts. eve  \n",
              "9                     nal foxes wake.   "
            ]
          },
          "execution_count": 6,
          "metadata": {},
          "output_type": "execute_result"
        }
      ],
      "source": [
        "con.execute(\"SELECT * FROM lineitem LIMIT 10\").df()"
      ]
    },
    {
      "cell_type": "markdown",
      "metadata": {
        "id": "91OEuc7qf6DR"
      },
      "source": [
        "To get a better feeling of what a table contains, we can use the `SUMMARIZE` command. This prints out several statistics about each of the columns of the table, such as the min and max value, how many unique values there are, the average value in the column, etc."
      ]
    },
    {
      "cell_type": "code",
      "execution_count": 14,
      "metadata": {
        "colab": {
          "base_uri": "https://localhost:8080/",
          "height": 719
        },
        "id": "qlavVmRrf1f0",
        "outputId": "d14f8875-b8f9-4cb4-fcba-c4397ddd87b1"
      },
      "outputs": [
        {
          "data": {
            "text/html": [
              "\n",
              "  <div id=\"df-d86ba272-e229-4a26-9eb5-82b8359cc58a\">\n",
              "    <div class=\"colab-df-container\">\n",
              "      <div>\n",
              "<style scoped>\n",
              "    .dataframe tbody tr th:only-of-type {\n",
              "        vertical-align: middle;\n",
              "    }\n",
              "\n",
              "    .dataframe tbody tr th {\n",
              "        vertical-align: top;\n",
              "    }\n",
              "\n",
              "    .dataframe thead th {\n",
              "        text-align: right;\n",
              "    }\n",
              "</style>\n",
              "<table border=\"1\" class=\"dataframe\">\n",
              "  <thead>\n",
              "    <tr style=\"text-align: right;\">\n",
              "      <th></th>\n",
              "      <th>column_name</th>\n",
              "      <th>column_type</th>\n",
              "      <th>min</th>\n",
              "      <th>max</th>\n",
              "      <th>approx_unique</th>\n",
              "      <th>avg</th>\n",
              "      <th>std</th>\n",
              "      <th>q25</th>\n",
              "      <th>q50</th>\n",
              "      <th>q75</th>\n",
              "      <th>count</th>\n",
              "      <th>null_percentage</th>\n",
              "    </tr>\n",
              "  </thead>\n",
              "  <tbody>\n",
              "    <tr>\n",
              "      <th>0</th>\n",
              "      <td>l_orderkey</td>\n",
              "      <td>INTEGER</td>\n",
              "      <td>1</td>\n",
              "      <td>600000</td>\n",
              "      <td>152234</td>\n",
              "      <td>300087.32032628893</td>\n",
              "      <td>173380.15954532538</td>\n",
              "      <td>151126</td>\n",
              "      <td>299763</td>\n",
              "      <td>450987</td>\n",
              "      <td>600572</td>\n",
              "      <td>0.0%</td>\n",
              "    </tr>\n",
              "    <tr>\n",
              "      <th>1</th>\n",
              "      <td>l_partkey</td>\n",
              "      <td>INTEGER</td>\n",
              "      <td>1</td>\n",
              "      <td>20000</td>\n",
              "      <td>20024</td>\n",
              "      <td>10003.995747387491</td>\n",
              "      <td>5768.962517282611</td>\n",
              "      <td>5014</td>\n",
              "      <td>10006</td>\n",
              "      <td>14995</td>\n",
              "      <td>600572</td>\n",
              "      <td>0.0%</td>\n",
              "    </tr>\n",
              "    <tr>\n",
              "      <th>2</th>\n",
              "      <td>l_suppkey</td>\n",
              "      <td>INTEGER</td>\n",
              "      <td>1</td>\n",
              "      <td>1000</td>\n",
              "      <td>1005</td>\n",
              "      <td>500.55533391500103</td>\n",
              "      <td>288.5557626111953</td>\n",
              "      <td>250</td>\n",
              "      <td>500</td>\n",
              "      <td>749</td>\n",
              "      <td>600572</td>\n",
              "      <td>0.0%</td>\n",
              "    </tr>\n",
              "    <tr>\n",
              "      <th>3</th>\n",
              "      <td>l_linenumber</td>\n",
              "      <td>INTEGER</td>\n",
              "      <td>1</td>\n",
              "      <td>7</td>\n",
              "      <td>7</td>\n",
              "      <td>3.001215507882485</td>\n",
              "      <td>1.7321171926128476</td>\n",
              "      <td>1</td>\n",
              "      <td>3</td>\n",
              "      <td>4</td>\n",
              "      <td>600572</td>\n",
              "      <td>0.0%</td>\n",
              "    </tr>\n",
              "    <tr>\n",
              "      <th>4</th>\n",
              "      <td>l_quantity</td>\n",
              "      <td>INTEGER</td>\n",
              "      <td>1</td>\n",
              "      <td>50</td>\n",
              "      <td>50</td>\n",
              "      <td>25.53366124294839</td>\n",
              "      <td>14.420188609142347</td>\n",
              "      <td>13</td>\n",
              "      <td>25</td>\n",
              "      <td>37</td>\n",
              "      <td>600572</td>\n",
              "      <td>0.0%</td>\n",
              "    </tr>\n",
              "    <tr>\n",
              "      <th>5</th>\n",
              "      <td>l_extendedprice</td>\n",
              "      <td>DECIMAL(15,2)</td>\n",
              "      <td>901.00</td>\n",
              "      <td>95949.50</td>\n",
              "      <td>132041</td>\n",
              "      <td>35992.236201887536</td>\n",
              "      <td>22014.18174976392</td>\n",
              "      <td>17619</td>\n",
              "      <td>34465</td>\n",
              "      <td>51656</td>\n",
              "      <td>600572</td>\n",
              "      <td>0.0%</td>\n",
              "    </tr>\n",
              "    <tr>\n",
              "      <th>6</th>\n",
              "      <td>l_discount</td>\n",
              "      <td>DECIMAL(15,2)</td>\n",
              "      <td>0.00</td>\n",
              "      <td>0.10</td>\n",
              "      <td>11</td>\n",
              "      <td>0.050073929520523766</td>\n",
              "      <td>0.031603128191052286</td>\n",
              "      <td>0</td>\n",
              "      <td>0</td>\n",
              "      <td>0</td>\n",
              "      <td>600572</td>\n",
              "      <td>0.0%</td>\n",
              "    </tr>\n",
              "    <tr>\n",
              "      <th>7</th>\n",
              "      <td>l_tax</td>\n",
              "      <td>DECIMAL(15,2)</td>\n",
              "      <td>0.00</td>\n",
              "      <td>0.08</td>\n",
              "      <td>9</td>\n",
              "      <td>0.040041626982276896</td>\n",
              "      <td>0.025797304713675414</td>\n",
              "      <td>0</td>\n",
              "      <td>0</td>\n",
              "      <td>0</td>\n",
              "      <td>600572</td>\n",
              "      <td>0.0%</td>\n",
              "    </tr>\n",
              "    <tr>\n",
              "      <th>8</th>\n",
              "      <td>l_returnflag</td>\n",
              "      <td>VARCHAR</td>\n",
              "      <td>A</td>\n",
              "      <td>R</td>\n",
              "      <td>3</td>\n",
              "      <td>NaN</td>\n",
              "      <td>NaN</td>\n",
              "      <td>NaN</td>\n",
              "      <td>NaN</td>\n",
              "      <td>NaN</td>\n",
              "      <td>600572</td>\n",
              "      <td>0.0%</td>\n",
              "    </tr>\n",
              "    <tr>\n",
              "      <th>9</th>\n",
              "      <td>l_linestatus</td>\n",
              "      <td>VARCHAR</td>\n",
              "      <td>F</td>\n",
              "      <td>O</td>\n",
              "      <td>2</td>\n",
              "      <td>NaN</td>\n",
              "      <td>NaN</td>\n",
              "      <td>NaN</td>\n",
              "      <td>NaN</td>\n",
              "      <td>NaN</td>\n",
              "      <td>600572</td>\n",
              "      <td>0.0%</td>\n",
              "    </tr>\n",
              "    <tr>\n",
              "      <th>10</th>\n",
              "      <td>l_shipdate</td>\n",
              "      <td>DATE</td>\n",
              "      <td>1992-01-03</td>\n",
              "      <td>1998-12-01</td>\n",
              "      <td>2553</td>\n",
              "      <td>NaN</td>\n",
              "      <td>NaN</td>\n",
              "      <td>NaN</td>\n",
              "      <td>NaN</td>\n",
              "      <td>NaN</td>\n",
              "      <td>600572</td>\n",
              "      <td>0.0%</td>\n",
              "    </tr>\n",
              "    <tr>\n",
              "      <th>11</th>\n",
              "      <td>l_commitdate</td>\n",
              "      <td>DATE</td>\n",
              "      <td>1992-01-31</td>\n",
              "      <td>1998-10-31</td>\n",
              "      <td>2491</td>\n",
              "      <td>NaN</td>\n",
              "      <td>NaN</td>\n",
              "      <td>NaN</td>\n",
              "      <td>NaN</td>\n",
              "      <td>NaN</td>\n",
              "      <td>600572</td>\n",
              "      <td>0.0%</td>\n",
              "    </tr>\n",
              "    <tr>\n",
              "      <th>12</th>\n",
              "      <td>l_receiptdate</td>\n",
              "      <td>DATE</td>\n",
              "      <td>1992-01-04</td>\n",
              "      <td>1998-12-27</td>\n",
              "      <td>2576</td>\n",
              "      <td>NaN</td>\n",
              "      <td>NaN</td>\n",
              "      <td>NaN</td>\n",
              "      <td>NaN</td>\n",
              "      <td>NaN</td>\n",
              "      <td>600572</td>\n",
              "      <td>0.0%</td>\n",
              "    </tr>\n",
              "    <tr>\n",
              "      <th>13</th>\n",
              "      <td>l_shipinstruct</td>\n",
              "      <td>VARCHAR</td>\n",
              "      <td>COLLECT COD</td>\n",
              "      <td>TAKE BACK RETURN</td>\n",
              "      <td>4</td>\n",
              "      <td>NaN</td>\n",
              "      <td>NaN</td>\n",
              "      <td>NaN</td>\n",
              "      <td>NaN</td>\n",
              "      <td>NaN</td>\n",
              "      <td>600572</td>\n",
              "      <td>0.0%</td>\n",
              "    </tr>\n",
              "    <tr>\n",
              "      <th>14</th>\n",
              "      <td>l_shipmode</td>\n",
              "      <td>VARCHAR</td>\n",
              "      <td>AIR</td>\n",
              "      <td>TRUCK</td>\n",
              "      <td>7</td>\n",
              "      <td>NaN</td>\n",
              "      <td>NaN</td>\n",
              "      <td>NaN</td>\n",
              "      <td>NaN</td>\n",
              "      <td>NaN</td>\n",
              "      <td>600572</td>\n",
              "      <td>0.0%</td>\n",
              "    </tr>\n",
              "    <tr>\n",
              "      <th>15</th>\n",
              "      <td>l_comment</td>\n",
              "      <td>VARCHAR</td>\n",
              "      <td>Tiresias</td>\n",
              "      <td>zzle: pending i</td>\n",
              "      <td>535974</td>\n",
              "      <td>NaN</td>\n",
              "      <td>NaN</td>\n",
              "      <td>NaN</td>\n",
              "      <td>NaN</td>\n",
              "      <td>NaN</td>\n",
              "      <td>600572</td>\n",
              "      <td>0.0%</td>\n",
              "    </tr>\n",
              "  </tbody>\n",
              "</table>\n",
              "</div>\n",
              "      <button class=\"colab-df-convert\" onclick=\"convertToInteractive('df-d86ba272-e229-4a26-9eb5-82b8359cc58a')\"\n",
              "              title=\"Convert this dataframe to an interactive table.\"\n",
              "              style=\"display:none;\">\n",
              "        \n",
              "  <svg xmlns=\"http://www.w3.org/2000/svg\" height=\"24px\"viewBox=\"0 0 24 24\"\n",
              "       width=\"24px\">\n",
              "    <path d=\"M0 0h24v24H0V0z\" fill=\"none\"/>\n",
              "    <path d=\"M18.56 5.44l.94 2.06.94-2.06 2.06-.94-2.06-.94-.94-2.06-.94 2.06-2.06.94zm-11 1L8.5 8.5l.94-2.06 2.06-.94-2.06-.94L8.5 2.5l-.94 2.06-2.06.94zm10 10l.94 2.06.94-2.06 2.06-.94-2.06-.94-.94-2.06-.94 2.06-2.06.94z\"/><path d=\"M17.41 7.96l-1.37-1.37c-.4-.4-.92-.59-1.43-.59-.52 0-1.04.2-1.43.59L10.3 9.45l-7.72 7.72c-.78.78-.78 2.05 0 2.83L4 21.41c.39.39.9.59 1.41.59.51 0 1.02-.2 1.41-.59l7.78-7.78 2.81-2.81c.8-.78.8-2.07 0-2.86zM5.41 20L4 18.59l7.72-7.72 1.47 1.35L5.41 20z\"/>\n",
              "  </svg>\n",
              "      </button>\n",
              "      \n",
              "  <style>\n",
              "    .colab-df-container {\n",
              "      display:flex;\n",
              "      flex-wrap:wrap;\n",
              "      gap: 12px;\n",
              "    }\n",
              "\n",
              "    .colab-df-convert {\n",
              "      background-color: #E8F0FE;\n",
              "      border: none;\n",
              "      border-radius: 50%;\n",
              "      cursor: pointer;\n",
              "      display: none;\n",
              "      fill: #1967D2;\n",
              "      height: 32px;\n",
              "      padding: 0 0 0 0;\n",
              "      width: 32px;\n",
              "    }\n",
              "\n",
              "    .colab-df-convert:hover {\n",
              "      background-color: #E2EBFA;\n",
              "      box-shadow: 0px 1px 2px rgba(60, 64, 67, 0.3), 0px 1px 3px 1px rgba(60, 64, 67, 0.15);\n",
              "      fill: #174EA6;\n",
              "    }\n",
              "\n",
              "    [theme=dark] .colab-df-convert {\n",
              "      background-color: #3B4455;\n",
              "      fill: #D2E3FC;\n",
              "    }\n",
              "\n",
              "    [theme=dark] .colab-df-convert:hover {\n",
              "      background-color: #434B5C;\n",
              "      box-shadow: 0px 1px 3px 1px rgba(0, 0, 0, 0.15);\n",
              "      filter: drop-shadow(0px 1px 2px rgba(0, 0, 0, 0.3));\n",
              "      fill: #FFFFFF;\n",
              "    }\n",
              "  </style>\n",
              "\n",
              "      <script>\n",
              "        const buttonEl =\n",
              "          document.querySelector('#df-d86ba272-e229-4a26-9eb5-82b8359cc58a button.colab-df-convert');\n",
              "        buttonEl.style.display =\n",
              "          google.colab.kernel.accessAllowed ? 'block' : 'none';\n",
              "\n",
              "        async function convertToInteractive(key) {\n",
              "          const element = document.querySelector('#df-d86ba272-e229-4a26-9eb5-82b8359cc58a');\n",
              "          const dataTable =\n",
              "            await google.colab.kernel.invokeFunction('convertToInteractive',\n",
              "                                                     [key], {});\n",
              "          if (!dataTable) return;\n",
              "\n",
              "          const docLinkHtml = 'Like what you see? Visit the ' +\n",
              "            '<a target=\"_blank\" href=https://colab.research.google.com/notebooks/data_table.ipynb>data table notebook</a>'\n",
              "            + ' to learn more about interactive tables.';\n",
              "          element.innerHTML = '';\n",
              "          dataTable['output_type'] = 'display_data';\n",
              "          await google.colab.output.renderOutput(dataTable, element);\n",
              "          const docLink = document.createElement('div');\n",
              "          docLink.innerHTML = docLinkHtml;\n",
              "          element.appendChild(docLink);\n",
              "        }\n",
              "      </script>\n",
              "    </div>\n",
              "  </div>\n",
              "  "
            ],
            "text/plain": [
              "        column_name    column_type          min               max  \\\n",
              "0        l_orderkey        INTEGER            1            600000   \n",
              "1         l_partkey        INTEGER            1             20000   \n",
              "2         l_suppkey        INTEGER            1              1000   \n",
              "3      l_linenumber        INTEGER            1                 7   \n",
              "4        l_quantity        INTEGER            1                50   \n",
              "5   l_extendedprice  DECIMAL(15,2)       901.00          95949.50   \n",
              "6        l_discount  DECIMAL(15,2)         0.00              0.10   \n",
              "7             l_tax  DECIMAL(15,2)         0.00              0.08   \n",
              "8      l_returnflag        VARCHAR            A                 R   \n",
              "9      l_linestatus        VARCHAR            F                 O   \n",
              "10       l_shipdate           DATE   1992-01-03        1998-12-01   \n",
              "11     l_commitdate           DATE   1992-01-31        1998-10-31   \n",
              "12    l_receiptdate           DATE   1992-01-04        1998-12-27   \n",
              "13   l_shipinstruct        VARCHAR  COLLECT COD  TAKE BACK RETURN   \n",
              "14       l_shipmode        VARCHAR          AIR             TRUCK   \n",
              "15        l_comment        VARCHAR    Tiresias    zzle: pending i   \n",
              "\n",
              "   approx_unique                   avg                   std     q25     q50  \\\n",
              "0         152234    300087.32032628893    173380.15954532538  151126  299763   \n",
              "1          20024    10003.995747387491     5768.962517282611    5014   10006   \n",
              "2           1005    500.55533391500103     288.5557626111953     250     500   \n",
              "3              7     3.001215507882485    1.7321171926128476       1       3   \n",
              "4             50     25.53366124294839    14.420188609142347      13      25   \n",
              "5         132041    35992.236201887536     22014.18174976392   17619   34465   \n",
              "6             11  0.050073929520523766  0.031603128191052286       0       0   \n",
              "7              9  0.040041626982276896  0.025797304713675414       0       0   \n",
              "8              3                   NaN                   NaN     NaN     NaN   \n",
              "9              2                   NaN                   NaN     NaN     NaN   \n",
              "10          2553                   NaN                   NaN     NaN     NaN   \n",
              "11          2491                   NaN                   NaN     NaN     NaN   \n",
              "12          2576                   NaN                   NaN     NaN     NaN   \n",
              "13             4                   NaN                   NaN     NaN     NaN   \n",
              "14             7                   NaN                   NaN     NaN     NaN   \n",
              "15        535974                   NaN                   NaN     NaN     NaN   \n",
              "\n",
              "       q75   count null_percentage  \n",
              "0   450987  600572            0.0%  \n",
              "1    14995  600572            0.0%  \n",
              "2      749  600572            0.0%  \n",
              "3        4  600572            0.0%  \n",
              "4       37  600572            0.0%  \n",
              "5    51656  600572            0.0%  \n",
              "6        0  600572            0.0%  \n",
              "7        0  600572            0.0%  \n",
              "8      NaN  600572            0.0%  \n",
              "9      NaN  600572            0.0%  \n",
              "10     NaN  600572            0.0%  \n",
              "11     NaN  600572            0.0%  \n",
              "12     NaN  600572            0.0%  \n",
              "13     NaN  600572            0.0%  \n",
              "14     NaN  600572            0.0%  \n",
              "15     NaN  600572            0.0%  "
            ]
          },
          "execution_count": 14,
          "metadata": {},
          "output_type": "execute_result"
        }
      ],
      "source": [
        "con.execute(\"SUMMARIZE lineitem\").df()\n",
        "# con.execute(\"SUMMARIZE lineitem\").fetchone()"
      ]
    },
    {
      "cell_type": "markdown",
      "metadata": {
        "id": "LcZafWWgeNQA"
      },
      "source": [
        "# **Testing and Benchmarking**"
      ]
    },
    {
      "cell_type": "markdown",
      "metadata": {
        "id": "1dROJlGXeVkj"
      },
      "source": [
        "Let us start our assignment by running a microbenchmark against the TPC-H dataset.\n",
        "\n",
        "In order to make the benchmarking more interesting, let's compare against the SQLite database. This is a typical OLTP (transactional) database that is included along with every Python installation.\n"
      ]
    },
    {
      "cell_type": "markdown",
      "metadata": {
        "id": "vaW5C0HJheWe"
      },
      "source": [
        "### **SQLite Setup**"
      ]
    },
    {
      "cell_type": "markdown",
      "metadata": {
        "id": "clF4mkBohg1j"
      },
      "source": [
        "We start out by creating a new in-memory database, just as we did in DuckDB."
      ]
    },
    {
      "cell_type": "code",
      "execution_count": 23,
      "metadata": {
        "id": "8Z2gmvPveXnJ"
      },
      "outputs": [],
      "source": [
        "import duckdb\n",
        "con = duckdb.connect(':memory:')\n",
        "con.execute(\"CALL dbgen(sf=0.1)\")\n",
        "\n",
        "import sqlite3\n",
        "sqlite_con = sqlite3.connect(':memory:', check_same_thread=False)"
      ]
    },
    {
      "cell_type": "markdown",
      "metadata": {
        "id": "tUgwAT89hwpd"
      },
      "source": [
        "We can transfer the data from DuckDB to SQLite using a Pandas DataFrame as well. First, we export the data from DuckDB into a Pandas DataFrame using the `.df()` command. Then we use the `to_sql` function to write the data to our SQLite database."
      ]
    },
    {
      "cell_type": "code",
      "execution_count": 28,
      "metadata": {
        "colab": {
          "base_uri": "https://localhost:8080/"
        },
        "id": "fz-420csd1zo",
        "outputId": "ce20edb9-3d3b-49c0-f3f0-a963a951b742"
      },
      "outputs": [
        {
          "name": "stdout",
          "output_type": "stream",
          "text": [
            "CPU times: user 10 s, sys: 398 ms, total: 10.4 s\n",
            "Wall time: 10.4 s\n"
          ]
        }
      ],
      "source": [
        "%%time\n",
        "table_list = con.execute(\"SHOW TABLES\").fetchall()\n",
        "\n",
        "for table in table_list:\n",
        "  tname = table[0]\n",
        "  table_data = con.table(tname).df()\n",
        "  table_data.to_sql(tname, sqlite_con, if_exists=\"replace\")"
      ]
    },
    {
      "cell_type": "code",
      "execution_count": null,
      "metadata": {
        "id": "4ixLb7pc4LEP"
      },
      "outputs": [],
      "source": []
    },
    {
      "cell_type": "code",
      "execution_count": null,
      "metadata": {
        "id": "jyvuTgsX2-fk"
      },
      "outputs": [],
      "source": [
        "%%time\n",
        "table_list = con.execute(\"SHOW TABLES\").fetchall()\n",
        "\n",
        "[con.table(table[0]).df().to_sql(tname, sqlite_con, if_exists=\"replace\") for table[0] in table_list]\n"
      ]
    },
    {
      "cell_type": "code",
      "execution_count": 25,
      "metadata": {
        "colab": {
          "base_uri": "https://localhost:8080/"
        },
        "id": "27n68PV82rhd",
        "outputId": "44e6faff-8a18-46d2-eb83-08a6539507ca"
      },
      "outputs": [
        {
          "data": {
            "text/plain": [
              "[('customer',),\n",
              " ('lineitem',),\n",
              " ('nation',),\n",
              " ('orders',),\n",
              " ('part',),\n",
              " ('partsupp',),\n",
              " ('region',),\n",
              " ('supplier',)]"
            ]
          },
          "execution_count": 25,
          "metadata": {},
          "output_type": "execute_result"
        }
      ],
      "source": [
        "table_list\n",
        "# sqlite_con.execute(\"SELECT name FROM sqlite_master WHERE type='table'\").fetchall()"
      ]
    },
    {
      "cell_type": "markdown",
      "metadata": {
        "id": "c9yYI7wjihsv"
      },
      "source": [
        "# **Running the Benchmark**"
      ]
    },
    {
      "cell_type": "markdown",
      "metadata": {
        "id": "yW6Y_qpujGcq"
      },
      "source": [
        "We have created a query down below which resembles a (simplified) query from the TPC-H benchmark:"
      ]
    },
    {
      "cell_type": "code",
      "execution_count": 26,
      "metadata": {
        "id": "EGFeecgris_-"
      },
      "outputs": [],
      "source": [
        "query = \"\"\"\n",
        "SELECT\n",
        "    l_orderkey,\n",
        "    sum(l_extendedprice * (1 - l_discount)) AS revenue,\n",
        "    o_orderdate,\n",
        "    o_shippriority\n",
        "FROM\n",
        "    customer\n",
        "    JOIN orders ON (c_custkey=o_custkey)\n",
        "    JOIN lineitem ON (l_orderkey=o_orderkey)\n",
        "WHERE\n",
        "    c_mktsegment = 'BUILDING'\n",
        "    AND o_orderdate < CAST('1995-03-15' AS date)\n",
        "    AND l_shipdate > CAST('1995-03-15' AS date)\n",
        "GROUP BY\n",
        "    l_orderkey,\n",
        "    o_orderdate,\n",
        "    o_shippriority\n",
        "ORDER BY\n",
        "    revenue DESC,\n",
        "    o_orderdate\n",
        "LIMIT 10;\n",
        "\"\"\""
      ]
    },
    {
      "cell_type": "markdown",
      "metadata": {
        "id": "YDM3ENVrj2-t"
      },
      "source": [
        "Let's run the query in both SQLite and in DuckDB and measure the execution time."
      ]
    },
    {
      "cell_type": "code",
      "execution_count": 29,
      "metadata": {
        "colab": {
          "base_uri": "https://localhost:8080/",
          "height": 81
        },
        "id": "JJjqeZ6vj1DS",
        "outputId": "fcee584e-0460-445f-924e-8d5654088577"
      },
      "outputs": [
        {
          "data": {
            "text/html": [
              "\n",
              "  <div id=\"df-6e86137f-1894-4947-847e-56bb5e3db8cc\">\n",
              "    <div class=\"colab-df-container\">\n",
              "      <div>\n",
              "<style scoped>\n",
              "    .dataframe tbody tr th:only-of-type {\n",
              "        vertical-align: middle;\n",
              "    }\n",
              "\n",
              "    .dataframe tbody tr th {\n",
              "        vertical-align: top;\n",
              "    }\n",
              "\n",
              "    .dataframe thead th {\n",
              "        text-align: right;\n",
              "    }\n",
              "</style>\n",
              "<table border=\"1\" class=\"dataframe\">\n",
              "  <thead>\n",
              "    <tr style=\"text-align: right;\">\n",
              "      <th></th>\n",
              "      <th>DuckDB</th>\n",
              "      <th>SQLite</th>\n",
              "    </tr>\n",
              "  </thead>\n",
              "  <tbody>\n",
              "    <tr>\n",
              "      <th>0</th>\n",
              "      <td>0.028s</td>\n",
              "      <td>0.414s</td>\n",
              "    </tr>\n",
              "  </tbody>\n",
              "</table>\n",
              "</div>\n",
              "      <button class=\"colab-df-convert\" onclick=\"convertToInteractive('df-6e86137f-1894-4947-847e-56bb5e3db8cc')\"\n",
              "              title=\"Convert this dataframe to an interactive table.\"\n",
              "              style=\"display:none;\">\n",
              "        \n",
              "  <svg xmlns=\"http://www.w3.org/2000/svg\" height=\"24px\"viewBox=\"0 0 24 24\"\n",
              "       width=\"24px\">\n",
              "    <path d=\"M0 0h24v24H0V0z\" fill=\"none\"/>\n",
              "    <path d=\"M18.56 5.44l.94 2.06.94-2.06 2.06-.94-2.06-.94-.94-2.06-.94 2.06-2.06.94zm-11 1L8.5 8.5l.94-2.06 2.06-.94-2.06-.94L8.5 2.5l-.94 2.06-2.06.94zm10 10l.94 2.06.94-2.06 2.06-.94-2.06-.94-.94-2.06-.94 2.06-2.06.94z\"/><path d=\"M17.41 7.96l-1.37-1.37c-.4-.4-.92-.59-1.43-.59-.52 0-1.04.2-1.43.59L10.3 9.45l-7.72 7.72c-.78.78-.78 2.05 0 2.83L4 21.41c.39.39.9.59 1.41.59.51 0 1.02-.2 1.41-.59l7.78-7.78 2.81-2.81c.8-.78.8-2.07 0-2.86zM5.41 20L4 18.59l7.72-7.72 1.47 1.35L5.41 20z\"/>\n",
              "  </svg>\n",
              "      </button>\n",
              "      \n",
              "  <style>\n",
              "    .colab-df-container {\n",
              "      display:flex;\n",
              "      flex-wrap:wrap;\n",
              "      gap: 12px;\n",
              "    }\n",
              "\n",
              "    .colab-df-convert {\n",
              "      background-color: #E8F0FE;\n",
              "      border: none;\n",
              "      border-radius: 50%;\n",
              "      cursor: pointer;\n",
              "      display: none;\n",
              "      fill: #1967D2;\n",
              "      height: 32px;\n",
              "      padding: 0 0 0 0;\n",
              "      width: 32px;\n",
              "    }\n",
              "\n",
              "    .colab-df-convert:hover {\n",
              "      background-color: #E2EBFA;\n",
              "      box-shadow: 0px 1px 2px rgba(60, 64, 67, 0.3), 0px 1px 3px 1px rgba(60, 64, 67, 0.15);\n",
              "      fill: #174EA6;\n",
              "    }\n",
              "\n",
              "    [theme=dark] .colab-df-convert {\n",
              "      background-color: #3B4455;\n",
              "      fill: #D2E3FC;\n",
              "    }\n",
              "\n",
              "    [theme=dark] .colab-df-convert:hover {\n",
              "      background-color: #434B5C;\n",
              "      box-shadow: 0px 1px 3px 1px rgba(0, 0, 0, 0.15);\n",
              "      filter: drop-shadow(0px 1px 2px rgba(0, 0, 0, 0.3));\n",
              "      fill: #FFFFFF;\n",
              "    }\n",
              "  </style>\n",
              "\n",
              "      <script>\n",
              "        const buttonEl =\n",
              "          document.querySelector('#df-6e86137f-1894-4947-847e-56bb5e3db8cc button.colab-df-convert');\n",
              "        buttonEl.style.display =\n",
              "          google.colab.kernel.accessAllowed ? 'block' : 'none';\n",
              "\n",
              "        async function convertToInteractive(key) {\n",
              "          const element = document.querySelector('#df-6e86137f-1894-4947-847e-56bb5e3db8cc');\n",
              "          const dataTable =\n",
              "            await google.colab.kernel.invokeFunction('convertToInteractive',\n",
              "                                                     [key], {});\n",
              "          if (!dataTable) return;\n",
              "\n",
              "          const docLinkHtml = 'Like what you see? Visit the ' +\n",
              "            '<a target=\"_blank\" href=https://colab.research.google.com/notebooks/data_table.ipynb>data table notebook</a>'\n",
              "            + ' to learn more about interactive tables.';\n",
              "          element.innerHTML = '';\n",
              "          dataTable['output_type'] = 'display_data';\n",
              "          await google.colab.output.renderOutput(dataTable, element);\n",
              "          const docLink = document.createElement('div');\n",
              "          docLink.innerHTML = docLinkHtml;\n",
              "          element.appendChild(docLink);\n",
              "        }\n",
              "      </script>\n",
              "    </div>\n",
              "  </div>\n",
              "  "
            ],
            "text/plain": [
              "   DuckDB  SQLite\n",
              "0  0.028s  0.414s"
            ]
          },
          "execution_count": 29,
          "metadata": {},
          "output_type": "execute_result"
        }
      ],
      "source": [
        "import time\n",
        "import pandas as pd\n",
        "\n",
        "\n",
        "def run_query(con_obj, q):\n",
        "  start = time.time()\n",
        "  con_obj.execute(q).fetchall()\n",
        "  end = time.time()\n",
        "  return(str(round(end - start,3)) + 's')\n",
        "\n",
        "duckdb_results = [run_query(con, query)]\n",
        "sqlite_results = [run_query(sqlite_con, query)]\n",
        "\n",
        "pd.DataFrame.from_dict({\n",
        "    'DuckDB': duckdb_results,\n",
        "    'SQLite': sqlite_results\n",
        "})"
      ]
    },
    {
      "cell_type": "markdown",
      "metadata": {
        "id": "U4bIcbh4EARK"
      },
      "source": [
        "Using the `PRAGMA disable_optimizer` we can also disable the query optimizer of DuckDB, and re-run the query. In this manner we can see the performance effect that query optimization has on our query."
      ]
    },
    {
      "cell_type": "code",
      "execution_count": 34,
      "metadata": {
        "colab": {
          "base_uri": "https://localhost:8080/",
          "height": 81
        },
        "id": "JlAsNIvV-f0x",
        "outputId": "50b5c99d-ed87-4717-8b21-043f1ce61094"
      },
      "outputs": [
        {
          "data": {
            "text/html": [
              "\n",
              "  <div id=\"df-f5920994-620b-4dde-aab0-005314de8a34\">\n",
              "    <div class=\"colab-df-container\">\n",
              "      <div>\n",
              "<style scoped>\n",
              "    .dataframe tbody tr th:only-of-type {\n",
              "        vertical-align: middle;\n",
              "    }\n",
              "\n",
              "    .dataframe tbody tr th {\n",
              "        vertical-align: top;\n",
              "    }\n",
              "\n",
              "    .dataframe thead th {\n",
              "        text-align: right;\n",
              "    }\n",
              "</style>\n",
              "<table border=\"1\" class=\"dataframe\">\n",
              "  <thead>\n",
              "    <tr style=\"text-align: right;\">\n",
              "      <th></th>\n",
              "      <th>DuckDB</th>\n",
              "      <th>DuckDB (Unoptimized)</th>\n",
              "      <th>SQLite</th>\n",
              "    </tr>\n",
              "  </thead>\n",
              "  <tbody>\n",
              "    <tr>\n",
              "      <th>0</th>\n",
              "      <td>0.028s</td>\n",
              "      <td>0.097s</td>\n",
              "      <td>0.414s</td>\n",
              "    </tr>\n",
              "  </tbody>\n",
              "</table>\n",
              "</div>\n",
              "      <button class=\"colab-df-convert\" onclick=\"convertToInteractive('df-f5920994-620b-4dde-aab0-005314de8a34')\"\n",
              "              title=\"Convert this dataframe to an interactive table.\"\n",
              "              style=\"display:none;\">\n",
              "        \n",
              "  <svg xmlns=\"http://www.w3.org/2000/svg\" height=\"24px\"viewBox=\"0 0 24 24\"\n",
              "       width=\"24px\">\n",
              "    <path d=\"M0 0h24v24H0V0z\" fill=\"none\"/>\n",
              "    <path d=\"M18.56 5.44l.94 2.06.94-2.06 2.06-.94-2.06-.94-.94-2.06-.94 2.06-2.06.94zm-11 1L8.5 8.5l.94-2.06 2.06-.94-2.06-.94L8.5 2.5l-.94 2.06-2.06.94zm10 10l.94 2.06.94-2.06 2.06-.94-2.06-.94-.94-2.06-.94 2.06-2.06.94z\"/><path d=\"M17.41 7.96l-1.37-1.37c-.4-.4-.92-.59-1.43-.59-.52 0-1.04.2-1.43.59L10.3 9.45l-7.72 7.72c-.78.78-.78 2.05 0 2.83L4 21.41c.39.39.9.59 1.41.59.51 0 1.02-.2 1.41-.59l7.78-7.78 2.81-2.81c.8-.78.8-2.07 0-2.86zM5.41 20L4 18.59l7.72-7.72 1.47 1.35L5.41 20z\"/>\n",
              "  </svg>\n",
              "      </button>\n",
              "      \n",
              "  <style>\n",
              "    .colab-df-container {\n",
              "      display:flex;\n",
              "      flex-wrap:wrap;\n",
              "      gap: 12px;\n",
              "    }\n",
              "\n",
              "    .colab-df-convert {\n",
              "      background-color: #E8F0FE;\n",
              "      border: none;\n",
              "      border-radius: 50%;\n",
              "      cursor: pointer;\n",
              "      display: none;\n",
              "      fill: #1967D2;\n",
              "      height: 32px;\n",
              "      padding: 0 0 0 0;\n",
              "      width: 32px;\n",
              "    }\n",
              "\n",
              "    .colab-df-convert:hover {\n",
              "      background-color: #E2EBFA;\n",
              "      box-shadow: 0px 1px 2px rgba(60, 64, 67, 0.3), 0px 1px 3px 1px rgba(60, 64, 67, 0.15);\n",
              "      fill: #174EA6;\n",
              "    }\n",
              "\n",
              "    [theme=dark] .colab-df-convert {\n",
              "      background-color: #3B4455;\n",
              "      fill: #D2E3FC;\n",
              "    }\n",
              "\n",
              "    [theme=dark] .colab-df-convert:hover {\n",
              "      background-color: #434B5C;\n",
              "      box-shadow: 0px 1px 3px 1px rgba(0, 0, 0, 0.15);\n",
              "      filter: drop-shadow(0px 1px 2px rgba(0, 0, 0, 0.3));\n",
              "      fill: #FFFFFF;\n",
              "    }\n",
              "  </style>\n",
              "\n",
              "      <script>\n",
              "        const buttonEl =\n",
              "          document.querySelector('#df-f5920994-620b-4dde-aab0-005314de8a34 button.colab-df-convert');\n",
              "        buttonEl.style.display =\n",
              "          google.colab.kernel.accessAllowed ? 'block' : 'none';\n",
              "\n",
              "        async function convertToInteractive(key) {\n",
              "          const element = document.querySelector('#df-f5920994-620b-4dde-aab0-005314de8a34');\n",
              "          const dataTable =\n",
              "            await google.colab.kernel.invokeFunction('convertToInteractive',\n",
              "                                                     [key], {});\n",
              "          if (!dataTable) return;\n",
              "\n",
              "          const docLinkHtml = 'Like what you see? Visit the ' +\n",
              "            '<a target=\"_blank\" href=https://colab.research.google.com/notebooks/data_table.ipynb>data table notebook</a>'\n",
              "            + ' to learn more about interactive tables.';\n",
              "          element.innerHTML = '';\n",
              "          dataTable['output_type'] = 'display_data';\n",
              "          await google.colab.output.renderOutput(dataTable, element);\n",
              "          const docLink = document.createElement('div');\n",
              "          docLink.innerHTML = docLinkHtml;\n",
              "          element.appendChild(docLink);\n",
              "        }\n",
              "      </script>\n",
              "    </div>\n",
              "  </div>\n",
              "  "
            ],
            "text/plain": [
              "   DuckDB DuckDB (Unoptimized)  SQLite\n",
              "0  0.028s               0.097s  0.414s"
            ]
          },
          "execution_count": 34,
          "metadata": {},
          "output_type": "execute_result"
        }
      ],
      "source": [
        "con.execute(\"PRAGMA disable_optimizer\")\n",
        "duckdb_unoptimized_results = [run_query(con, query)]\n",
        "con.execute(\"PRAGMA enable_optimizer\")\n",
        "\n",
        "pd.DataFrame.from_dict({\n",
        "    'DuckDB': duckdb_results,\n",
        "    'DuckDB (Unoptimized)': duckdb_unoptimized_results,\n",
        "    'SQLite': sqlite_results\n",
        "})"
      ]
    },
    {
      "cell_type": "markdown",
      "metadata": {
        "id": "OQCvdodnNpKl"
      },
      "source": [
        "# **Inspecting the Query Plan**\n",
        "The query plan of a query can be inspected by prefixing the query with`EXPLAIN`. By default, only the physical query plan is returned. You can use `PRAGMA explain_output='all'` to output the unoptimized logical plan, the optimized logical plan and the physical plan as well."
      ]
    },
    {
      "cell_type": "code",
      "execution_count": null,
      "metadata": {
        "id": "kU6-xxAWNth9"
      },
      "outputs": [],
      "source": [
        "def explain_query(query):\n",
        "  print(con.execute(\"EXPLAIN \" + query).fetchall()[0][1])\n",
        "\n",
        "explain_query(query)"
      ]
    },
    {
      "cell_type": "markdown",
      "metadata": {
        "id": "YKAtnEB2PuCp"
      },
      "source": [
        "# **Profiling Queries**\n",
        "Rather than only viewing the query plan, we can also run the query and look at the profile output. The function `run_and_profile_query` below performs this profiling by enabling the profiling, writing the profiling output to a file, and then printing the contents of that file to the console.\n",
        "\n",
        "The profiler output shows extra information for every operator; namely how much time was spent executing that operator, and how many tuples have moved from that operator to the operator above it. \n",
        "\n",
        "For a `SEQ_SCAN` (sequential scan), for example, it shows how many tuples have been read from the base table. For a `FILTER`, it shows how many tuples have passed the filter predicate. For a``HASH_GROUP_BY`, it shows how many groups were created and aggregated.\n",
        "\n",
        "These intermediate cardinalities are important because they do a good job of explaining why an operator takes a certain amount of time, and in many cases these intermediates can be avoided or drastically reduced by modifying the way in which a query is executed.\n",
        "\n"
      ]
    },
    {
      "cell_type": "code",
      "execution_count": null,
      "metadata": {
        "id": "ejriXVhQP1X2"
      },
      "outputs": [],
      "source": [
        "def run_and_profile_query(query):\n",
        "  con.execute(\"PRAGMA enable_profiling\")\n",
        "  con.execute(\"PRAGMA profiling_output='out.log'\")\n",
        "  con.execute(query)\n",
        "  con.execute(\"PRAGMA disable_profiling\")\n",
        "  with open('out.log', 'r') as f:\n",
        "    output = f.read()\n",
        "  print(output)\n",
        "  \n",
        "run_and_profile_query(query)"
      ]
    },
    {
      "cell_type": "markdown",
      "metadata": {
        "id": "VRNkx2dK7_wZ"
      },
      "source": [
        "\n",
        "# **Query Optimizations**\n",
        "\n",
        "An important component of a database system is the optimizer. The optimizer changes the query plan so that it is logically equivalent to the original plan, but (hopefully) executes much faster.\n",
        "\n",
        "In an ideal world, the optimizer allows the user not to worry about how to formulate a query: the user only needs to describe what result they want to see, and the database figures out the most efficient way of retrieving that result.\n",
        "\n",
        "In practice, this is certainly not always true, and in some situations it is necessary to rephrase a query. Nevertheless, optimizers generally do a very good job at optimizing queries, and save users a lot of time in manually reformulating queries.\n",
        "\n",
        "Let us run the following query and see how it performs:"
      ]
    },
    {
      "cell_type": "code",
      "execution_count": null,
      "metadata": {
        "id": "R5dTktM58Dje"
      },
      "outputs": [],
      "source": [
        "unoptimized_query = \"\"\"\n",
        "SELECT\n",
        "    l_orderkey,\n",
        "    sum(l_extendedprice * (1 - l_discount)) AS revenue,\n",
        "    o_orderdate,\n",
        "    o_shippriority\n",
        "FROM\n",
        "    customer,\n",
        "    orders,\n",
        "    lineitem\n",
        "WHERE\n",
        "    c_mktsegment = 'BUILDING'\n",
        "    AND c_custkey = o_custkey\n",
        "    AND l_orderkey = o_orderkey\n",
        "    AND o_orderdate < CAST('1995-03-15' AS date)\n",
        "    AND l_shipdate > CAST('1995-03-15' AS date)\n",
        "GROUP BY\n",
        "    l_orderkey,\n",
        "    o_orderdate,\n",
        "    o_shippriority\n",
        "ORDER BY\n",
        "    revenue DESC,\n",
        "    o_orderdate\n",
        "LIMIT 10;\n",
        "\"\"\"\n",
        "\n",
        "run_and_profile_query(unoptimized_query)\n"
      ]
    },
    {
      "cell_type": "markdown",
      "metadata": {
        "id": "vyDSVNG1TmPi"
      },
      "source": [
        "\n",
        "\n",
        "# **Manual Query Optimizations**\n",
        "\n",
        "In order to get a better idea of how query optimizers work, we are going to perform *manual* query optimization. In order to do that, we will disable all query optimizers in DuckDB, which means the query will run *as-is*. We can then change the way the query is physically executed by altering the query. Let's try to disable the optimizer and looking at the query plan:\n",
        "\n"
      ]
    },
    {
      "cell_type": "code",
      "execution_count": null,
      "metadata": {
        "id": "sy7O9XS0T9kJ"
      },
      "outputs": [],
      "source": [
        "# con.execute(\"PRAGMA disable_optimizer\")\n",
        "explain_query(unoptimized_query)\n"
      ]
    },
    {
      "cell_type": "markdown",
      "metadata": {
        "id": "AnE6A2olT954"
      },
      "source": [
        "Looking at the plan you now see that the hash joins that were used before are replaced by cross products followed by a filter. This is what was literally written in the query, however, cross products are extremely expensive! We could run this query, but because of the cross products it will take extremely long. \n",
        "\n",
        "Let's rewrite the query to explicitly use joins instead, and then we can actually run it:"
      ]
    },
    {
      "cell_type": "code",
      "execution_count": null,
      "metadata": {
        "id": "oypnNM8qZel2"
      },
      "outputs": [],
      "source": [
        "query = \"\"\"\n",
        "SELECT\n",
        "    l_orderkey,\n",
        "    sum(l_extendedprice * (1 - l_discount)) AS revenue,\n",
        "    o_orderdate,\n",
        "    o_shippriority\n",
        "FROM\n",
        "    customer\n",
        "    JOIN orders ON (c_custkey=o_custkey)\n",
        "    JOIN lineitem ON (l_orderkey=o_orderkey)\n",
        "WHERE\n",
        "    c_mktsegment = 'BUILDING'\n",
        "    AND o_orderdate < CAST('1995-03-15' AS date)\n",
        "    AND l_shipdate > CAST('1995-03-15' AS date)\n",
        "GROUP BY\n",
        "    l_orderkey,\n",
        "    o_orderdate,\n",
        "    o_shippriority\n",
        "ORDER BY\n",
        "    revenue DESC,\n",
        "    o_orderdate\n",
        "LIMIT 10;\n",
        "\"\"\"\n",
        "\n",
        "run_and_profile_query(query)\n"
      ]
    },
    {
      "cell_type": "markdown",
      "metadata": {
        "id": "zNEso9LqaXYw"
      },
      "source": [
        "# **Assignment**\n",
        "\n",
        "Now the query actually finishes; however, it is still much slower than before. There are more changes that can be made to the query to make it run faster. Your assignment (and challenge!) is to adjust the query so that it runs in similar speed to the query with optimizations enabled. You will be the human query optimizer replacing the disabled one.\n"
      ]
    },
    {
      "cell_type": "code",
      "execution_count": null,
      "metadata": {
        "id": "0M2rSHRlamG3"
      },
      "outputs": [],
      "source": [
        "query = \"\"\"\n",
        "SELECT\n",
        "    l_orderkey,\n",
        "    sum(l_extendedprice * (1 - l_discount)) AS revenue,\n",
        "    o_orderdate,\n",
        "    o_shippriority\n",
        "FROM\n",
        "    customer\n",
        "    JOIN orders ON (c_custkey=o_custkey)\n",
        "    JOIN lineitem ON (l_orderkey=o_orderkey)\n",
        "WHERE\n",
        "    c_mktsegment = 'BUILDING'\n",
        "    AND o_orderdate < CAST('1995-03-15' AS date)\n",
        "    AND l_shipdate > CAST('1995-03-15' AS date)\n",
        "GROUP BY\n",
        "    l_orderkey,\n",
        "    o_orderdate,\n",
        "    o_shippriority\n",
        "ORDER BY\n",
        "    revenue DESC,\n",
        "    o_orderdate\n",
        "LIMIT 10;\n",
        "\"\"\"\n",
        "\n",
        "run_and_profile_query(query)\n"
      ]
    },
    {
      "cell_type": "markdown",
      "metadata": {
        "id": "p6JUwPDfFJnI"
      },
      "source": [
        "# **Bonus Assignment 1**\n",
        "\n",
        "The TPC-H queries can be loaded from DuckDB using the query `SELECT * FROM tpch_queries()`. Run all the queries in both DuckDB and SQLite and compare the results.\n",
        "\n",
        "Note: Not all queries will work as-is in SQLite, and some might need to be (slightly) rewritten to accomodate SQLite's (more limited) SQL dialect."
      ]
    },
    {
      "cell_type": "markdown",
      "metadata": {
        "id": "AhBLdZ0XTnG7"
      },
      "source": [
        "# **Bonus Assignment 2**\n",
        "\n",
        "As a bonus assignment, here is another query that you can optimize."
      ]
    },
    {
      "cell_type": "code",
      "execution_count": null,
      "metadata": {
        "id": "bYS2uTs1BB-q"
      },
      "outputs": [],
      "source": [
        "query = \"\"\"\n",
        "SELECT\n",
        "    nation,\n",
        "    o_year,\n",
        "    sum(amount) AS sum_profit\n",
        "FROM (\n",
        "    SELECT\n",
        "        n_name AS nation,\n",
        "        extract(year FROM o_orderdate) AS o_year,\n",
        "        l_extendedprice * (1 - l_discount) - ps_supplycost * l_quantity AS amount\n",
        "    FROM\n",
        "        part,\n",
        "        supplier,\n",
        "        lineitem,\n",
        "        partsupp,\n",
        "        orders,\n",
        "        nation\n",
        "    WHERE\n",
        "        s_suppkey = l_suppkey\n",
        "        AND ps_suppkey = l_suppkey\n",
        "        AND ps_partkey = l_partkey\n",
        "        AND p_partkey = l_partkey\n",
        "        AND o_orderkey = l_orderkey\n",
        "        AND s_nationkey = n_nationkey\n",
        "        AND p_name LIKE '%green%') AS profit\n",
        "GROUP BY\n",
        "    nation,\n",
        "    o_year\n",
        "ORDER BY\n",
        "    nation,\n",
        "    o_year DESC;\n",
        "\"\"\"\n",
        "\n",
        "\n",
        "run_and_profile_query(query)"
      ]
    },
    {
      "cell_type": "markdown",
      "metadata": {
        "id": "cm16ikqfbPJl"
      },
      "source": [
        "## Experiments with my own data"
      ]
    },
    {
      "cell_type": "code",
      "execution_count": 3,
      "metadata": {
        "colab": {
          "base_uri": "https://localhost:8080/"
        },
        "id": "IuhInwJccLa7",
        "outputId": "a17c759e-ffc9-4b23-fa7b-363bd75dbcb3"
      },
      "outputs": [
        {
          "name": "stdout",
          "output_type": "stream",
          "text": [
            "Collecting duckdb\n",
            "  Downloading duckdb-0.3.5.dev46-cp37-cp37m-manylinux_2_17_x86_64.manylinux2014_x86_64.whl (14.0 MB)\n",
            "\u001b[K     |████████████████████████████████| 14.0 MB 5.5 MB/s \n",
            "\u001b[?25hRequirement already satisfied: numpy>=1.14 in /usr/local/lib/python3.7/dist-packages (from duckdb) (1.21.6)\n",
            "Installing collected packages: duckdb\n",
            "Successfully installed duckdb-0.3.5.dev46\n"
          ]
        }
      ],
      "source": [
        "!pip install duckdb --pre"
      ]
    },
    {
      "cell_type": "code",
      "execution_count": 9,
      "metadata": {
        "id": "NlHJQlvabI8z"
      },
      "outputs": [],
      "source": [
        "file_path = r\"/content/filings_13f_xml_flag.csv\"\n",
        "\n",
        "import duckdb\n",
        "conn_duck = duckdb.connect(\"xml_duck\",read_only=False)\n",
        "\n",
        "import sqlite3\n",
        "conn_sqlite = sqlite3.connect(\"xml_sqlite.db\")\n"
      ]
    },
    {
      "cell_type": "code",
      "execution_count": 10,
      "metadata": {
        "colab": {
          "base_uri": "https://localhost:8080/",
          "height": 234
        },
        "id": "UpUJH0OFbI6d",
        "outputId": "ad09e11f-edce-4bfc-feac-1d254cd9c0df"
      },
      "outputs": [
        {
          "ename": "RuntimeError",
          "evalue": "ignored",
          "output_type": "error",
          "traceback": [
            "\u001b[0;31m---------------------------------------------------------------------------\u001b[0m",
            "\u001b[0;31mRuntimeError\u001b[0m                              Traceback (most recent call last)",
            "\u001b[0;32m<ipython-input-10-819f38495951>\u001b[0m in \u001b[0;36m<module>\u001b[0;34m()\u001b[0m\n\u001b[1;32m      3\u001b[0m \u001b[0mdf\u001b[0m\u001b[0;34m.\u001b[0m\u001b[0mshape\u001b[0m\u001b[0;34m\u001b[0m\u001b[0;34m\u001b[0m\u001b[0m\n\u001b[1;32m      4\u001b[0m \u001b[0;34m\u001b[0m\u001b[0m\n\u001b[0;32m----> 5\u001b[0;31m \u001b[0mconn_duck\u001b[0m\u001b[0;34m.\u001b[0m\u001b[0mexecute\u001b[0m\u001b[0;34m(\u001b[0m\u001b[0;34m\"CREATE TABLE xml_duck AS SELECT * FROM df\"\u001b[0m\u001b[0;34m)\u001b[0m\u001b[0;34m\u001b[0m\u001b[0;34m\u001b[0m\u001b[0m\n\u001b[0m\u001b[1;32m      6\u001b[0m \u001b[0mdf\u001b[0m\u001b[0;34m.\u001b[0m\u001b[0mto_sql\u001b[0m\u001b[0;34m(\u001b[0m\u001b[0;34m\"xml_sqlite\"\u001b[0m\u001b[0;34m,\u001b[0m \u001b[0mconn_sqlite\u001b[0m\u001b[0;34m,\u001b[0m \u001b[0mif_exists\u001b[0m\u001b[0;34m=\u001b[0m\u001b[0;34m\"replace\"\u001b[0m\u001b[0;34m)\u001b[0m\u001b[0;34m\u001b[0m\u001b[0;34m\u001b[0m\u001b[0m\n\u001b[1;32m      7\u001b[0m \u001b[0;34m\u001b[0m\u001b[0m\n",
            "\u001b[0;31mRuntimeError\u001b[0m: Catalog Error: Table with name \"xml_duck\" already exists!"
          ]
        }
      ],
      "source": [
        "import pandas as pd\n",
        "df = pd.read_csv(file_path)\n",
        "df.shape\n",
        "\n",
        "conn_duck.execute(\"CREATE TABLE xml_duck AS SELECT * FROM df\")\n",
        "df.to_sql(\"xml_sqlite\", conn_sqlite, if_exists=\"replace\")\n",
        "\n"
      ]
    },
    {
      "cell_type": "code",
      "execution_count": null,
      "metadata": {
        "id": "L0x4NrFtbI4N"
      },
      "outputs": [],
      "source": [
        "conn_duck.execute(\"SHOW TABLES\").df()\n",
        "conn_duck.execute(\"SELECT * FROM xml_duck LIMIT 10\").df()"
      ]
    },
    {
      "cell_type": "code",
      "execution_count": 12,
      "metadata": {
        "colab": {
          "base_uri": "https://localhost:8080/"
        },
        "id": "7FXzwrI7bI18",
        "outputId": "828a8439-cea1-4b50-a0ee-75b2359dc6a8"
      },
      "outputs": [
        {
          "name": "stdout",
          "output_type": "stream",
          "text": [
            "[('xml_sqlite',)]\n"
          ]
        }
      ],
      "source": [
        "cursor = conn_sqlite.cursor()\n",
        "cursor.execute(\"SELECT name FROM sqlite_master WHERE type='table';\")\n",
        "print(cursor.fetchall())"
      ]
    },
    {
      "cell_type": "code",
      "execution_count": 92,
      "metadata": {
        "colab": {
          "base_uri": "https://localhost:8080/"
        },
        "id": "YXXj45GEbIzR",
        "outputId": "0196bdb3-03ea-45fc-a39d-d9ba73e3453d"
      },
      "outputs": [
        {
          "data": {
            "text/plain": [
              "[('STRATEGIC INVESTMENT MANAGEMENT',),\n",
              " ('NATIONWIDE LIFE INSURANCE CO /OH',),\n",
              " ('NATIONWIDE LIFE INSURANCE CO /OH',),\n",
              " ('NATIONWIDE LIFE INSURANCE CO /OH',),\n",
              " ('NATIONWIDE LIFE INSURANCE CO /OH',),\n",
              " ('NATIONWIDE ADVISORY SERVICES INC/NEW',),\n",
              " ('NATIONWIDE ADVISORY SERVICES INC/NEW',),\n",
              " ('NATIONWIDE ADVISORY SERVICES INC/NEW',),\n",
              " ('NATIONWIDE CORP',),\n",
              " ('CALIFORNIA CASUALTY MANAGEMENT CO',)]"
            ]
          },
          "execution_count": 92,
          "metadata": {},
          "output_type": "execute_result"
        }
      ],
      "source": [
        "conn_sqlite.execute(\"SELECT managerName FROM xml_sqlite LIMIT 10\").fetchall()"
      ]
    },
    {
      "cell_type": "code",
      "execution_count": 134,
      "metadata": {
        "colab": {
          "base_uri": "https://localhost:8080/"
        },
        "id": "Bjmu6tpDbIwJ",
        "outputId": "afb43f28-acce-4e6b-b8b2-a07a714cc35c"
      },
      "outputs": [
        {
          "name": "stdout",
          "output_type": "stream",
          "text": [
            "CPU times: user 1.57 s, sys: 53.2 ms, total: 1.62 s\n",
            "Wall time: 1.63 s\n"
          ]
        }
      ],
      "source": [
        "# Performance of SQLite on xml_flag table\n",
        "\n",
        "%%time\n",
        "conn_sqlite.execute(\"SELECT managerName, COUNT (DISTINCT filedAsOfDate),\\\n",
        "COUNT(DISTINCT created_at),\\\n",
        "SUM(report_Year), \\\n",
        "AVG(report_Year), \\\n",
        "COUNT (DISTINCT accessionNumber) \\\n",
        "FROM xml_sqlite GROUP BY managerName, periodOfReport, accessionNumber\").fetchall()\n",
        "\n",
        "\"\"\"\n",
        "CPU times: user 132 ms, sys: 23.1 ms, total: 155 ms\n",
        "Wall time: 160 ms\n",
        "\"\"\""
      ]
    },
    {
      "cell_type": "code",
      "execution_count": 124,
      "metadata": {
        "colab": {
          "base_uri": "https://localhost:8080/"
        },
        "id": "Orzs-UJGvD6w",
        "outputId": "1ebe48d0-dcaa-446a-b54f-b4eedddc02d9"
      },
      "outputs": [
        {
          "data": {
            "text/plain": [
              "<_duckdb_extension.DuckDBPyConnection at 0x7f5321c93970>"
            ]
          },
          "execution_count": 124,
          "metadata": {},
          "output_type": "execute_result"
        }
      ],
      "source": [
        "conn_duck.execute(\"PRAGMA enable_optimizer\")"
      ]
    },
    {
      "cell_type": "code",
      "execution_count": 136,
      "metadata": {
        "colab": {
          "base_uri": "https://localhost:8080/"
        },
        "id": "ouUEolCwjzSt",
        "outputId": "a343934c-0e57-4144-ea69-9d5634dea01b"
      },
      "outputs": [
        {
          "name": "stdout",
          "output_type": "stream",
          "text": [
            "CPU times: user 248 ms, sys: 7.08 ms, total: 255 ms\n",
            "Wall time: 253 ms\n"
          ]
        }
      ],
      "source": [
        "# Performance of DuckDB on xml_flag table\n",
        "\n",
        "%%time\n",
        "\n",
        "conn_duck.execute(\"SELECT managerName, COUNT (DISTINCT filedAsOfDate), \\\n",
        "COUNT(DISTINCT created_at),\\\n",
        "SUM(report_Year), \\\n",
        "AVG(report_Year), \\\n",
        "COUNT (DISTINCT accessionNumber) \\\n",
        "FROM xml_duck GROUP BY managerName, periodOfReport, accessionNumber\").fetchnumpy()\n",
        "\n",
        "\"\"\"\n",
        "CPU times: user 55.7 ms, sys: 15 ms, total: 70.7 ms\n",
        "Wall time: 71.2 ms\n",
        "[(4833,)]\n",
        "\"\"\""
      ]
    },
    {
      "cell_type": "markdown",
      "metadata": {
        "id": "Wrq8hbyj25sh"
      },
      "source": [
        "### Duckdb is constantly quicker"
      ]
    },
    {
      "cell_type": "code",
      "execution_count": 48,
      "metadata": {
        "id": "MhGWBgpajzQj"
      },
      "outputs": [],
      "source": []
    },
    {
      "cell_type": "code",
      "execution_count": null,
      "metadata": {
        "id": "tAK-51m9jzNp"
      },
      "outputs": [],
      "source": []
    }
  ],
  "metadata": {
    "colab": {
      "collapsed_sections": [],
      "name": "DuckDB_Exercise2.ipynb",
      "provenance": []
    },
    "kernelspec": {
      "display_name": "Python 3.9.7 ('venv': venv)",
      "language": "python",
      "name": "python3"
    },
    "language_info": {
      "name": "python",
      "version": "3.9.7"
    },
    "vscode": {
      "interpreter": {
        "hash": "b5143f6ff7bbb63cabd89bb4a9cefd32bc32894118b9021102650afc5c8bb261"
      }
    }
  },
  "nbformat": 4,
  "nbformat_minor": 0
}
